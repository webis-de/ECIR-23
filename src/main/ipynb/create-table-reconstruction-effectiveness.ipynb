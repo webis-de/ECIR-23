{
 "cells": [
  {
   "cell_type": "markdown",
   "id": "47e8090d-ac95-474b-b9d8-48e8d67dc376",
   "metadata": {},
   "source": [
    "# Create table `table-reconstruction-effectiveness`"
   ]
  },
  {
   "cell_type": "markdown",
   "id": "0a08c226-a028-4b77-872c-e1d3b6807423",
   "metadata": {},
   "source": [
    "### Import utility and load datasets"
   ]
  },
  {
   "cell_type": "code",
   "execution_count": 3,
   "id": "f9e01a2d-f146-442d-a9ce-d254e1915827",
   "metadata": {},
   "outputs": [
    {
     "name": "stdout",
     "output_type": "stream",
     "text": [
      "CPU times: user 2.83 s, sys: 535 ms, total: 3.36 s\n",
      "Wall time: 3.36 s\n"
     ]
    }
   ],
   "source": [
    "%%time\n",
    "import sys\n",
    "sys.path.append('../python/')\n",
    "import pandas as pd\n",
    "from sklearn.metrics import mean_squared_error\n",
    "import numpy as np\n",
    "from reconstruction_evaluation import load_df_reconstruction, load_preprocessed_reconstruction_or_from_cache\n",
    "import json\n",
    "from statistics import mean\n",
    "from scipy.stats import ttest_ind\n",
    "\n",
    "# To Reload the data\n",
    "#!rm -Rf processed-evaluation-results.json\n",
    "\n",
    "P_VALUE = 0.05\n",
    "# We compare against 5 things\n",
    "P_VALUE_BONFERONNI_CORRECTED = P_VALUE / 5\n",
    "\n",
    "dfs = load_preprocessed_reconstruction_or_from_cache()"
   ]
  },
  {
   "cell_type": "markdown",
   "id": "e1dfdc32-26c3-4a2d-a3b4-65d3b412a90b",
   "metadata": {},
   "source": [
    "### Create the Table"
   ]
  },
  {
   "cell_type": "code",
   "execution_count": 4,
   "id": "7614770d-24c3-4b28-975b-1687ea90b4e3",
   "metadata": {},
   "outputs": [
    {
     "name": "stdout",
     "output_type": "stream",
     "text": [
      "\\begin{table*}[t]\n",
      "\\caption{Reconstruction effectiveness: Precision (how many of the system-pairs that I tell apart are correct?),\n",
      "Recall (how many of the apart system pairs do I find?), and F1 as the harmonic mean of precision and recall.\n",
      "All of this on the Topic Level. {\\color{red} ToDo: Look why precision of residuals is not 1, are these only the special cases that we discussed earlier?}\n",
      "We report statistical significance according to students t-test with Bonferroni correction at p=0.05 to Residuals ($\\dagger$), Condensed Lists ($\\ast$), and Min-Condensed ($\\ddagger$).\n",
      "}\n",
      "\\label{table-reconstruction-effectiveness}\n",
      "\\renewcommand{\\tabcolsep}{3.8pt} \n",
      "\\centering\n",
      "\\small\n",
      "\n",
      "\\begin{tabular}{@{}l@{\\hspace{2em}}c@{\\hspace{.5em}}c@{\\hspace{.5em}}c@{\\hspace{2em}}c@{\\hspace{.5em}}c@{\\hspace{.5em}}c@{\\hspace{2em}}c@{\\hspace{.5em}}c@{\\hspace{.5em}}c@{}}\n",
      "\\toprule\n",
      "& \\multicolumn{3}{c}{Reconstr. on Robust04} & \\multicolumn{3}{c}{Reconstr. on CW09} & \\multicolumn{3}{c}{Reconstr. on CW12} \\\\\n",
      "\\cmidrule(r{1em}){2-4} \\cmidrule(r{1em}){5-7} \\cmidrule{8-10}\n",
      "\n",
      " & Precision                & Recall         & F1   & Precision                & Recall         & F1 & Precision                & Recall         & F1             \\\\\n",
      "\n",
      "\\midrule\n",
      "\n",
      "Residuals & .987$^{\\ast\\phantom{\\dagger\\ddagger}}$ & .775$^{\\ast\\ddagger\\phantom{\\dagger}}$ & .865$^{\\ast\\ddagger\\phantom{\\dagger}}$ & .995$^{\\ast\\ddagger\\phantom{\\dagger}}$ & .606$^{\\ast\\ddagger\\phantom{\\dagger}}$ & .741$^{\\ast\\ddagger\\phantom{\\dagger}}$ & .998$^{\\ast\\ddagger\\phantom{\\dagger}}$ & .547$^{\\ast\\ddagger\\phantom{\\dagger}}$ & .693$^{\\ast\\ddagger\\phantom{\\dagger}}$\\\\\n",
      "\\midrule\n",
      "\n",
      "Min Res. & .954$^{\\dagger\\ast\\phantom{\\ddagger}}$ & .954$^{\\dagger\\ast\\ddagger\\phantom{}}$ & .954$^{\\dagger\\ast\\phantom{\\ddagger}}$ & .921$^{\\dagger\\ast\\ddagger\\phantom{}}$ & .921$^{\\dagger\\ast\\ddagger\\phantom{}}$ & .921$^{\\dagger\\ast\\ddagger\\phantom{}}$ & .866$^{\\dagger\\ddagger\\phantom{\\ast}}$ & .866$^{\\dagger\\ddagger\\phantom{\\ast}}$ & .866$^{\\dagger\\phantom{\\ast\\ddagger}}$\\\\\n",
      "Cond. Lists & .931$^{\\dagger\\ddagger\\phantom{\\ast}}$ & .931$^{\\dagger\\ddagger\\phantom{\\ast}}$ & .931$^{\\dagger\\phantom{\\ast\\ddagger}}$ & .886$^{\\dagger\\ddagger\\phantom{\\ast}}$ & .886$^{\\dagger\\ddagger\\phantom{\\ast}}$ & .886$^{\\dagger\\phantom{\\ast\\ddagger}}$ & .891$^{\\dagger\\ddagger\\phantom{\\ast}}$ & .891$^{\\dagger\\ddagger\\phantom{\\ast}}$ & .891$^{\\dagger\\phantom{\\ast\\ddagger}}$\\\\\n",
      "PBS-RP & .946$^{\\dagger\\ast\\ddagger\\phantom{}}$ & .946$^{\\dagger\\ast\\ddagger\\phantom{}}$ & .946$^{\\dagger\\ast\\phantom{\\ddagger}}$ & .916$^{\\dagger\\ast\\ddagger\\phantom{}}$ & .916$^{\\dagger\\ast\\ddagger\\phantom{}}$ & .916$^{\\dagger\\ast\\ddagger\\phantom{}}$ & .903$^{\\dagger\\ddagger\\phantom{\\ast}}$ & .903$^{\\dagger\\ddagger\\phantom{\\ast}}$ & .903$^{\\dagger\\ddagger\\phantom{\\ast}}$\\\\\n",
      "\n",
      "\n",
      "\\midrule\n",
      "\n",
      "Min-Condensed & .973$^{\\ast\\phantom{\\dagger\\ddagger}}$ & .906$^{\\dagger\\ast\\phantom{\\ddagger}}$ & .936$^{\\dagger\\phantom{\\ast\\ddagger}}$ & .969$^{\\dagger\\ast\\phantom{\\ddagger}}$ & .833$^{\\dagger\\ast\\phantom{\\ddagger}}$ & .892$^{\\dagger\\phantom{\\ast\\ddagger}}$ & .957$^{\\dagger\\ast\\phantom{\\ddagger}}$ & .791$^{\\dagger\\ast\\phantom{\\ddagger}}$ & .862$^{\\dagger\\phantom{\\ast\\ddagger}}$\\\\\n",
      "BS (R+P)$_{75}$ &  .977$^{\\ast\\phantom{\\dagger\\ddagger}}$ & .868$^{\\dagger\\ast\\ddagger\\phantom{}}$ & .917$^{\\dagger\\phantom{\\ast\\ddagger}}$ & .972$^{\\dagger\\ast\\phantom{\\ddagger}}$ & .822$^{\\dagger\\ast\\phantom{\\ddagger}}$ & .888$^{\\dagger\\phantom{\\ast\\ddagger}}$ & .971$^{\\dagger\\ast\\phantom{\\ddagger}}$ & .758$^{\\dagger\\ast\\phantom{\\ddagger}}$ & .847$^{\\dagger\\ast\\phantom{\\ddagger}}$\\\\\n",
      "BS (R+P)$_{90}$ &  .985$^{\\ast\\phantom{\\dagger\\ddagger}}$ & .831$^{\\dagger\\ast\\ddagger\\phantom{}}$ & .898$^{\\dagger\\ast\\ddagger\\phantom{}}$ & .985$^{\\dagger\\ast\\ddagger\\phantom{}}$ & .766$^{\\dagger\\ast\\ddagger\\phantom{}}$ & .857$^{\\dagger\\ast\\ddagger\\phantom{}}$ & .986$^{\\dagger\\ast\\ddagger\\phantom{}}$ & .707$^{\\dagger\\ast\\ddagger\\phantom{}}$ & .817$^{\\dagger\\ast\\ddagger\\phantom{}}$\\\\\n",
      "BS (R+P)$_{95}$ &  .986$^{\\ast\\phantom{\\dagger\\ddagger}}$ & .815$^{\\dagger\\ast\\ddagger\\phantom{}}$ & .890$^{\\dagger\\ast\\ddagger\\phantom{}}$ & .988$^{\\ast\\ddagger\\phantom{\\dagger}}$ & .739$^{\\dagger\\ast\\ddagger\\phantom{}}$ & .840$^{\\dagger\\ast\\ddagger\\phantom{}}$ & .990$^{\\dagger\\ast\\ddagger\\phantom{}}$ & .673$^{\\dagger\\ast\\ddagger\\phantom{}}$ & .793$^{\\dagger\\ast\\ddagger\\phantom{}}$\\\\\n",
      "\n",
      "\\bottomrule\n",
      "\\end{tabular} \n",
      "\\end{table*} \n",
      "\n"
     ]
    }
   ],
   "source": [
    "def significant(a, b):\n",
    "    _, p_value = ttest_ind(a, b)\n",
    "    \n",
    "    return p_value < P_VALUE_BONFERONNI_CORRECTED\n",
    "\n",
    "def col(df, name):\n",
    "    df_grouped = df.groupby('approach')\\\n",
    "        .mean()\\\n",
    "        .reset_index()\n",
    "    \n",
    "    df_grouped = df_grouped[df_grouped['approach'] == name]\n",
    "    assert len(df_grouped) == 1\n",
    "    df_grouped = df_grouped.iloc[0].to_dict()\n",
    "    \n",
    "    df_residuals = df[df['approach'] == 'Residuals']\n",
    "    df_condensed = df[df['approach'] == 'Condensed']\n",
    "    df_min_condensed = df[df['approach'] == 'Min-Condensed']\n",
    "    df = df[df['approach'] == name]\n",
    "    \n",
    "    ret = ''\n",
    "    for k in ['precision', 'recall', 'f1']:\n",
    "        if len(ret) > 0:\n",
    "            ret += ' & '\n",
    "        \n",
    "        sig = ''\n",
    "        non_sig = ''\n",
    "        \n",
    "        for sign_name, vals in [('\\\\dagger', df_residuals), ('\\\\ast', df_condensed), ('\\\\ddagger', df_min_condensed)]:\n",
    "            if significant(df[k], vals[k]):\n",
    "                sig += sign_name\n",
    "            else:\n",
    "                non_sig += sign_name\n",
    "        \n",
    "        ret += '{:.3f}'.format(df_grouped[k], 3).lstrip('0') + '$^{' + sig+ '\\\\phantom{' + non_sig + '}}$'\n",
    "    \n",
    "    return ret\n",
    "    \n",
    "def line(name):\n",
    "    df_r04 = dfs['Robust04'][['approach', 'precision', 'recall', 'f1']]\n",
    "    df_cw09 = dfs['CW09'][['approach', 'precision', 'recall', 'f1']]\n",
    "    df_cw12 = dfs['CW12'][['approach', 'precision', 'recall', 'f1']]\n",
    "    \n",
    "    return col(df_r04, name) + ' & ' + col(df_cw09, name) + ' & ' + col(df_cw12, name)\n",
    "\n",
    "def produce_table():\n",
    "    return '''\\\\begin{table*}[t]\n",
    "\\\\caption{Reconstruction effectiveness: Precision (how many of the system-pairs that I tell apart are correct?),\n",
    "Recall (how many of the apart system pairs do I find?), and F1 as the harmonic mean of precision and recall.\n",
    "All of this on the Topic Level. {\\\\color{red} ToDo: Look why precision of residuals is not 1, are these only the special cases that we discussed earlier?}\n",
    "We report statistical significance according to students t-test with Bonferroni correction at p=0.05 to Residuals ($\\\\dagger$), Condensed Lists ($\\\\ast$), and Min-Condensed ($\\\\ddagger$).\n",
    "}\n",
    "\\\\label{table-reconstruction-effectiveness}\n",
    "\\\\renewcommand{\\\\tabcolsep}{3.8pt} \n",
    "\\\\centering\n",
    "\\\\small\n",
    "\n",
    "\\\\begin{tabular}{@{}l@{\\\\hspace{2em}}c@{\\\\hspace{.5em}}c@{\\\\hspace{.5em}}c@{\\\\hspace{2em}}c@{\\\\hspace{.5em}}c@{\\\\hspace{.5em}}c@{\\\\hspace{2em}}c@{\\\\hspace{.5em}}c@{\\\\hspace{.5em}}c@{}}\n",
    "\\\\toprule\n",
    "& \\\\multicolumn{3}{c}{Reconstr. on Robust04} & \\\\multicolumn{3}{c}{Reconstr. on CW09} & \\\\multicolumn{3}{c}{Reconstr. on CW12} \\\\\\\\\n",
    "\\\\cmidrule(r{1em}){2-4} \\\\cmidrule(r{1em}){5-7} \\\\cmidrule{8-10}\n",
    "\n",
    " & Precision                & Recall         & F1   & Precision                & Recall         & F1 & Precision                & Recall         & F1             \\\\\\\\\n",
    "\n",
    "\\\\midrule\n",
    "\n",
    "Residuals & ''' + line('Residuals') + '''\\\\\\\\\n",
    "\\\\midrule\n",
    "\n",
    "Min Res. & ''' + line('MinResiduals') + '''\\\\\\\\\n",
    "Cond. Lists & ''' + line('Condensed') + '''\\\\\\\\\n",
    "PBS-RP & ''' + line('PBS-RP-ML') + '''\\\\\\\\\n",
    "\n",
    "\n",
    "\\\\midrule\n",
    "\n",
    "Min-Condensed & ''' + line('Min-Condensed') + '''\\\\\\\\\n",
    "BS (R+P)$_{75}$ &  ''' + line('Min-PBS-RP-75') + '''\\\\\\\\\n",
    "BS (R+P)$_{90}$ &  ''' + line('Min-PBS-RP-90') + '''\\\\\\\\\n",
    "BS (R+P)$_{95}$ &  ''' + line('Min-PBS-RP-95') + '''\\\\\\\\\n",
    "\n",
    "\\\\bottomrule\n",
    "\\\\end{tabular} \n",
    "\\\\end{table*} \n",
    "'''\n",
    "\n",
    "print(produce_table())"
   ]
  },
  {
   "cell_type": "markdown",
   "id": "fbf66ee9-7c5a-4da9-bc6a-1128e239ceb2",
   "metadata": {},
   "source": [
    "### Helper-Methods to remove the effects of inefficient runs\n"
   ]
  },
  {
   "cell_type": "code",
   "execution_count": null,
   "id": "48cbe299-22ac-4f2f-9a26-00a989bec91e",
   "metadata": {},
   "outputs": [],
   "source": [
    "\n",
    "def avg(i):\n",
    "    i = json.loads(i)\n",
    "    \n",
    "    return mean(i.values())\n",
    "df = []\n",
    "for trec in tqdm(['trec13', 'trec18', 'trec19', 'trec20', 'trec21', 'trec22', 'trec23']):\n",
    "    df_trec = load_evaluations(glob(f'../resources/eval/trec-system-runs/{trec}/*.jsonl'))\n",
    "    df_trec['ndcg@10'] = df_trec[('depth-10-complete', 'ndcg@10')].apply(avg)\n",
    "    df_trec = df_trec[['ndcg@10']].sort_values('ndcg@10', ascending=False).reset_index()[['run', 'ndcg@10']].reset_index()\n",
    "    df_trec['position'] = df_trec['index']\n",
    "    df_trec['trec'] = trec\n",
    "    del df_trec['index']\n",
    "    df += [df_trec]\n",
    "df = pd.concat(df)\n",
    "df.to_json('../resources/processed/ndcg-at-10-effectiveness.jsonl', lines=True, orient='records')\n",
    "df"
   ]
  }
 ],
 "metadata": {
  "kernelspec": {
   "display_name": "Python 3 (ipykernel)",
   "language": "python",
   "name": "python3"
  },
  "language_info": {
   "codemirror_mode": {
    "name": "ipython",
    "version": 3
   },
   "file_extension": ".py",
   "mimetype": "text/x-python",
   "name": "python",
   "nbconvert_exporter": "python",
   "pygments_lexer": "ipython3",
   "version": "3.8.10"
  }
 },
 "nbformat": 4,
 "nbformat_minor": 5
}
