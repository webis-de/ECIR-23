{
 "cells": [
  {
   "cell_type": "markdown",
   "id": "4841df7a-52fc-46b2-a118-d1c8933a1bd8",
   "metadata": {},
   "source": [
    "# Evaluation of Cross Validation on all Benchmarks"
   ]
  },
  {
   "cell_type": "markdown",
   "id": "d19ce4c3-7d81-448b-a74a-cff54b609213",
   "metadata": {},
   "source": [
    "### Step 1 Load Libraries"
   ]
  },
  {
   "cell_type": "code",
   "execution_count": 1,
   "id": "e2a075fa-e077-4aad-a14d-b65bc789dafe",
   "metadata": {},
   "outputs": [],
   "source": [
    "import sys\n",
    "sys.path.append('../python/')\n",
    "from cross_validation_util import cross_validation_experiment"
   ]
  },
  {
   "cell_type": "markdown",
   "id": "ebc6ccc0-75d4-41eb-bf7f-f35a030c003a",
   "metadata": {},
   "source": [
    "### Step 2 Run Cross Validation"
   ]
  },
  {
   "cell_type": "code",
   "execution_count": 2,
   "id": "92b680eb-bd10-4266-aa1e-b3dde156c332",
   "metadata": {},
   "outputs": [
    {
     "name": "stderr",
     "output_type": "stream",
     "text": [
      "100%|███████████████████████████████████████████████████████████████████████████████████████████████████████████| 639/639 [00:26<00:00, 24.08it/s]\n",
      "bs-p-1000-ndcg@10-ndcg@10 on trec18: 100%|████████████████████████████████████████████████████████████████████████| 71/71 [11:49<00:00, 10.00s/it]\n",
      "bs-run-and-pool-dependent-1000-ndcg@10-ndcg@10 on trec18: 100%|███████████████████████████████████████████████████| 71/71 [14:36<00:00, 12.34s/it]\n",
      "bs-pool-dependent-1000-ndcg@10-ndcg@10 on trec18: 100%|███████████████████████████████████████████████████████████| 71/71 [08:18<00:00,  7.02s/it]\n",
      "bs-run-dependent-1000-ndcg@10-ndcg@10 on trec18: 100%|████████████████████████████████████████████████████████████| 71/71 [06:55<00:00,  5.85s/it]\n"
     ]
    }
   ],
   "source": [
    "# ToDo: Parallelize with slurm\n",
    "for trec in ['trec13', 'trec18', 'trec19', 'trec20', 'trec21', 'trec22', 'trec23']:\n",
    "    for bootstrap_type in ['bs-p-1000-ndcg@10-ndcg@10', 'bs-run-and-pool-dependent-1000-ndcg@10-ndcg@10', 'bs-pool-dependent-1000-ndcg@10-ndcg@10', 'bs-run-dependent-1000-ndcg@10-ndcg@10']:\n",
    "        cross_validation_experiment(\n",
    "            trec=trec,\n",
    "            bootstrap_types=[bootstrap_type],\n",
    "        )"
   ]
  }
 ],
 "metadata": {
  "kernelspec": {
   "display_name": "Python 3 (ipykernel)",
   "language": "python",
   "name": "python3"
  },
  "language_info": {
   "codemirror_mode": {
    "name": "ipython",
    "version": 3
   },
   "file_extension": ".py",
   "mimetype": "text/x-python",
   "name": "python",
   "nbconvert_exporter": "python",
   "pygments_lexer": "ipython3",
   "version": "3.8.10"
  }
 },
 "nbformat": 4,
 "nbformat_minor": 5
}
