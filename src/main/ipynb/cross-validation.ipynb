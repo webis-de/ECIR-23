{
 "cells": [
  {
   "cell_type": "markdown",
   "id": "4841df7a-52fc-46b2-a118-d1c8933a1bd8",
   "metadata": {},
   "source": [
    "# Evaluation of Cross Validation on all Benchmarks"
   ]
  },
  {
   "cell_type": "markdown",
   "id": "d19ce4c3-7d81-448b-a74a-cff54b609213",
   "metadata": {},
   "source": [
    "### Step 1 Load Libraries"
   ]
  },
  {
   "cell_type": "code",
   "execution_count": 2,
   "id": "e2a075fa-e077-4aad-a14d-b65bc789dafe",
   "metadata": {},
   "outputs": [],
   "source": [
    "import sys\n",
    "sys.path.append('../python/')\n",
    "from cross_validation_util import cross_validation_experiment\n",
    "from parametrized_bootstrapping_model import ParametrizedBootstrappingModel, ReturnAlways1Model, ReturnAlways0Model,\\\n",
    "    LowerBoundFixedBudgetBootstrappingModel, UpperBoundFixedBudgetBootstrappingModel, LowerBoundDeltaModel, UpperBoundDeltaModel"
   ]
  },
  {
   "cell_type": "code",
   "execution_count": 2,
   "id": "e5f56b3b-8eaa-4f8f-b6f0-381648a600a8",
   "metadata": {},
   "outputs": [
    {
     "name": "stdout",
     "output_type": "stream",
     "text": [
      "done\n"
     ]
    }
   ],
   "source": [
    "print('done')"
   ]
  },
  {
   "cell_type": "code",
   "execution_count": 3,
   "id": "51b81196-5126-4178-9f6a-284b68ab2964",
   "metadata": {},
   "outputs": [
    {
     "name": "stderr",
     "output_type": "stream",
     "text": [
      "100%|███████████████████████████████████████████████████████████████████████████████████████████████████████████| 300/300 [00:06<00:00, 49.72it/s]\n",
      "bs-run-and-pool-dependent2-1000-ndcg@10 on trec23:   0%|                                                                   | 0/30 [00:00<?, ?it/s]\n"
     ]
    },
    {
     "name": "stdout",
     "output_type": "stream",
     "text": [
      "dict_keys([('depth-10-complete', 'ndcg@10'), ('depth-10-incomplete', 'ndcg@10'), ('depth-20-complete', 'ndcg@10'), ('depth-20-incomplete', 'ndcg@10'), ('depth-10-incomplete', 'bs-run-dependent-1000-ndcg@10-ndcg@10'), ('depth-10-incomplete', 'bs-pool-dependent-1000-ndcg@10-ndcg@10'), ('depth-10-incomplete', 'bs-1000-ndcg@10-ndcg@10'), ('depth-10-incomplete', 'bs-p-1000-ndcg@10-ndcg@10'), ('depth-10-incomplete', 'bs-run-and-pool-dependent2-1000-ndcg@10-ndcg@10'), ('depth-10-complete', 'condensed-ndcg@10'), ('depth-10-incomplete', 'condensed-ndcg@10'), ('depth-20-complete', 'condensed-ndcg@10'), ('depth-20-incomplete', 'condensed-ndcg@10'), ('depth-10-complete', 'residual-ndcg@10-min'), ('depth-10-complete', 'residual-ndcg@10-max'), ('depth-10-incomplete', 'residual-ndcg@10-min'), ('depth-10-incomplete', 'residual-ndcg@10-max'), ('depth-20-complete', 'residual-ndcg@10-min'), ('depth-20-complete', 'residual-ndcg@10-max'), ('depth-20-incomplete', 'residual-ndcg@10-min'), ('depth-20-incomplete', 'residual-ndcg@10-max'), ('depth-10-incomplete', 'bs-run-and-pool-dependent-1000-ndcg@10-ndcg@10'), ('depth-10-complete', 'unjudged@10'), ('depth-10-incomplete', 'unjudged@10'), ('depth-20-complete', 'unjudged@10'), ('depth-20-incomplete', 'unjudged@10'), 'run'])\n"
     ]
    },
    {
     "ename": "KeyError",
     "evalue": "('depth-10-incomplete', 'bs-run-and-pool-dependent2-1000-ndcg@10')",
     "output_type": "error",
     "traceback": [
      "\u001b[0;31m---------------------------------------------------------------------------\u001b[0m",
      "\u001b[0;31mKeyError\u001b[0m                                  Traceback (most recent call last)",
      "Input \u001b[0;32mIn [3]\u001b[0m, in \u001b[0;36m<cell line: 1>\u001b[0;34m()\u001b[0m\n\u001b[0;32m----> 1\u001b[0m \u001b[43mcross_validation_experiment\u001b[49m\u001b[43m(\u001b[49m\n\u001b[1;32m      2\u001b[0m \u001b[43m    \u001b[49m\u001b[43mtrec\u001b[49m\u001b[38;5;241;43m=\u001b[39;49m\u001b[38;5;124;43m'\u001b[39;49m\u001b[38;5;124;43mtrec23\u001b[39;49m\u001b[38;5;124;43m'\u001b[39;49m\u001b[43m,\u001b[49m\n\u001b[1;32m      3\u001b[0m \u001b[43m    \u001b[49m\u001b[43minput_measure\u001b[49m\u001b[38;5;241;43m=\u001b[39;49m\u001b[43m[\u001b[49m\u001b[38;5;124;43m'\u001b[39;49m\u001b[38;5;124;43mbs-run-and-pool-dependent2-1000-ndcg@10\u001b[39;49m\u001b[38;5;124;43m'\u001b[39;49m\u001b[43m]\u001b[49m\u001b[43m,\u001b[49m\n\u001b[1;32m      4\u001b[0m \u001b[43m    \u001b[49m\u001b[43mmodels\u001b[49m\u001b[38;5;241;43m=\u001b[39;49m\u001b[43m[\u001b[49m\u001b[43mUpperBoundDeltaModel\u001b[49m\u001b[43m(\u001b[49m\u001b[38;5;241;43m0.01\u001b[39;49m\u001b[43m,\u001b[49m\u001b[43m \u001b[49m\u001b[38;5;124;43m'\u001b[39;49m\u001b[38;5;124;43mcondensed-ndcg@10\u001b[39;49m\u001b[38;5;124;43m'\u001b[39;49m\u001b[43m)\u001b[49m\u001b[43m,\u001b[49m\u001b[43m \u001b[49m\u001b[43mUpperBoundDeltaModel\u001b[49m\u001b[43m(\u001b[49m\u001b[38;5;241;43m0.05\u001b[39;49m\u001b[43m,\u001b[49m\u001b[43m \u001b[49m\u001b[38;5;124;43m'\u001b[39;49m\u001b[38;5;124;43mcondensed-ndcg@10\u001b[39;49m\u001b[38;5;124;43m'\u001b[39;49m\u001b[43m)\u001b[49m\u001b[43m]\u001b[49m\u001b[43m,\u001b[49m\n\u001b[1;32m      5\u001b[0m \u001b[43m    \u001b[49m\u001b[43mout_dir\u001b[49m\u001b[38;5;241;43m=\u001b[39;49m\u001b[38;5;124;43m'\u001b[39;49m\u001b[38;5;124;43mcross-val-tmp\u001b[39;49m\u001b[38;5;124;43m'\u001b[39;49m\u001b[43m,\u001b[49m\n\u001b[1;32m      6\u001b[0m \u001b[43m    \u001b[49m\u001b[43mclean\u001b[49m\u001b[38;5;241;43m=\u001b[39;49m\u001b[38;5;28;43;01mTrue\u001b[39;49;00m\u001b[43m,\u001b[49m\n\u001b[1;32m      7\u001b[0m \u001b[43m    \u001b[49m\u001b[43mworking_dir\u001b[49m\u001b[38;5;241;43m=\u001b[39;49m\u001b[38;5;124;43m'\u001b[39;49m\u001b[38;5;124;43m../resources\u001b[39;49m\u001b[38;5;124;43m'\u001b[39;49m\u001b[43m,\u001b[49m\n\u001b[1;32m      8\u001b[0m \u001b[43m    \u001b[49m\u001b[43mfailsave\u001b[49m\u001b[38;5;241;43m=\u001b[39;49m\u001b[38;5;28;43;01mFalse\u001b[39;49;00m\u001b[43m,\u001b[49m\n\u001b[1;32m      9\u001b[0m \u001b[43m)\u001b[49m\n",
      "File \u001b[0;32m/mnt/ceph/storage/data-tmp/2022/kibi9872/ecir23-incomplete-judgments/src/main/ipynb/../python/cross_validation_util.py:17\u001b[0m, in \u001b[0;36mcross_validation_experiment\u001b[0;34m(trec, input_measure, models, out_dir, clean, working_dir, max_runs, failsave)\u001b[0m\n\u001b[1;32m     14\u001b[0m     subprocess\u001b[38;5;241m.\u001b[39mcheck_output([\u001b[38;5;124m'\u001b[39m\u001b[38;5;124mrm\u001b[39m\u001b[38;5;124m'\u001b[39m, \u001b[38;5;124m'\u001b[39m\u001b[38;5;124m-rf\u001b[39m\u001b[38;5;124m'\u001b[39m, out_dir])\n\u001b[1;32m     16\u001b[0m \u001b[38;5;28;01mfor\u001b[39;00m bootstrap_type \u001b[38;5;129;01min\u001b[39;00m input_measure:\n\u001b[0;32m---> 17\u001b[0m     \u001b[43mrun_cross_validation_on_runs\u001b[49m\u001b[43m(\u001b[49m\u001b[38;5;28;43mmin\u001b[39;49m\u001b[43m(\u001b[49m\u001b[43mmax_runs\u001b[49m\u001b[43m,\u001b[49m\u001b[43m \u001b[49m\u001b[38;5;28;43mlen\u001b[39;49m\u001b[43m(\u001b[49m\u001b[43meval_df\u001b[49m\u001b[43m)\u001b[49m\u001b[43m)\u001b[49m\u001b[43m,\u001b[49m\u001b[43m \u001b[49m\u001b[43meval_df\u001b[49m\u001b[43m,\u001b[49m\u001b[43m \u001b[49m\u001b[43mbootstrap_type\u001b[49m\u001b[43m,\u001b[49m\u001b[43m \u001b[49m\u001b[43mtrec\u001b[49m\u001b[43m,\u001b[49m\u001b[43m \u001b[49m\u001b[43mmodels\u001b[49m\u001b[43m,\u001b[49m\n\u001b[1;32m     18\u001b[0m \u001b[43m                                 \u001b[49m\u001b[43mfailsave\u001b[49m\u001b[43m,\u001b[49m\u001b[43m \u001b[49m\u001b[43mout_dir\u001b[49m\u001b[43m)\u001b[49m\n",
      "File \u001b[0;32m/mnt/ceph/storage/data-tmp/2022/kibi9872/ecir23-incomplete-judgments/src/main/ipynb/../python/cross_validation_util.py:34\u001b[0m, in \u001b[0;36mrun_cross_validation_on_runs\u001b[0;34m(runs, eval_df, input_measure, trec, models, failsave, out_dir)\u001b[0m\n\u001b[1;32m     32\u001b[0m \u001b[38;5;28;01mexcept\u001b[39;00m \u001b[38;5;167;01mException\u001b[39;00m \u001b[38;5;28;01mas\u001b[39;00m e:\n\u001b[1;32m     33\u001b[0m     \u001b[38;5;28;01mif\u001b[39;00m \u001b[38;5;129;01mnot\u001b[39;00m failsave:\n\u001b[0;32m---> 34\u001b[0m         \u001b[38;5;28;01mraise\u001b[39;00m e\n\u001b[1;32m     36\u001b[0m     \u001b[38;5;28;01mcontinue\u001b[39;00m\n\u001b[1;32m     38\u001b[0m \u001b[38;5;28;01mif\u001b[39;00m ground_truth_data \u001b[38;5;129;01mis\u001b[39;00m \u001b[38;5;28;01mNone\u001b[39;00m:\n",
      "File \u001b[0;32m/mnt/ceph/storage/data-tmp/2022/kibi9872/ecir23-incomplete-judgments/src/main/ipynb/../python/cross_validation_util.py:25\u001b[0m, in \u001b[0;36mrun_cross_validation_on_runs\u001b[0;34m(runs, eval_df, input_measure, trec, models, failsave, out_dir)\u001b[0m\n\u001b[1;32m     23\u001b[0m \u001b[38;5;28;01mfor\u001b[39;00m i \u001b[38;5;129;01min\u001b[39;00m tqdm(\u001b[38;5;28mlist\u001b[39m(\u001b[38;5;28mrange\u001b[39m(runs)), input_measure \u001b[38;5;241m+\u001b[39m \u001b[38;5;124m'\u001b[39m\u001b[38;5;124m on \u001b[39m\u001b[38;5;124m'\u001b[39m \u001b[38;5;241m+\u001b[39m trec):\n\u001b[1;32m     24\u001b[0m     \u001b[38;5;28;01mtry\u001b[39;00m:\n\u001b[0;32m---> 25\u001b[0m         ground_truth_data \u001b[38;5;241m=\u001b[39m \u001b[43mload_ground_truth_data\u001b[49m\u001b[43m(\u001b[49m\n\u001b[1;32m     26\u001b[0m \u001b[43m            \u001b[49m\u001b[43mdf\u001b[49m\u001b[38;5;241;43m=\u001b[39;49m\u001b[43meval_df\u001b[49m\u001b[43m[\u001b[49m\u001b[43meval_df\u001b[49m\u001b[43m[\u001b[49m\u001b[38;5;124;43m'\u001b[39;49m\u001b[38;5;124;43mrun\u001b[39;49m\u001b[38;5;124;43m'\u001b[39;49m\u001b[43m]\u001b[49m\u001b[43m \u001b[49m\u001b[38;5;241;43m==\u001b[39;49m\u001b[43m \u001b[49m\u001b[43meval_df\u001b[49m\u001b[38;5;241;43m.\u001b[39;49m\u001b[43miloc\u001b[49m\u001b[43m[\u001b[49m\u001b[43mi\u001b[49m\u001b[43m]\u001b[49m\u001b[43m[\u001b[49m\u001b[38;5;124;43m'\u001b[39;49m\u001b[38;5;124;43mrun\u001b[39;49m\u001b[38;5;124;43m'\u001b[39;49m\u001b[43m]\u001b[49m\u001b[43m]\u001b[49m\u001b[43m,\u001b[49m\n\u001b[1;32m     27\u001b[0m \u001b[43m            \u001b[49m\u001b[43mground_truth_measure\u001b[49m\u001b[38;5;241;43m=\u001b[39;49m\u001b[38;5;124;43m'\u001b[39;49m\u001b[38;5;124;43mndcg\u001b[39;49m\u001b[38;5;124;43m'\u001b[39;49m\u001b[43m,\u001b[49m\n\u001b[1;32m     28\u001b[0m \u001b[43m            \u001b[49m\u001b[43mdepth\u001b[49m\u001b[38;5;241;43m=\u001b[39;49m\u001b[38;5;241;43m10\u001b[39;49m\u001b[43m,\u001b[49m\n\u001b[1;32m     29\u001b[0m \u001b[43m            \u001b[49m\u001b[43minput_measure\u001b[49m\u001b[38;5;241;43m=\u001b[39;49m\u001b[43minput_measure\u001b[49m\u001b[43m,\u001b[49m\n\u001b[1;32m     30\u001b[0m \u001b[43m            \u001b[49m\u001b[43mrandom_state\u001b[49m\u001b[38;5;241;43m=\u001b[39;49m\u001b[38;5;241;43m3\u001b[39;49m\n\u001b[1;32m     31\u001b[0m \u001b[43m        \u001b[49m\u001b[43m)\u001b[49m\n\u001b[1;32m     32\u001b[0m     \u001b[38;5;28;01mexcept\u001b[39;00m \u001b[38;5;167;01mException\u001b[39;00m \u001b[38;5;28;01mas\u001b[39;00m e:\n\u001b[1;32m     33\u001b[0m         \u001b[38;5;28;01mif\u001b[39;00m \u001b[38;5;129;01mnot\u001b[39;00m failsave:\n",
      "File \u001b[0;32m/mnt/ceph/storage/data-tmp/2022/kibi9872/ecir23-incomplete-judgments/src/main/ipynb/../python/result_analysis_utils.py:78\u001b[0m, in \u001b[0;36mload_ground_truth_data\u001b[0;34m(df, ground_truth_measure, depth, input_measure, random_state)\u001b[0m\n\u001b[1;32m     73\u001b[0m df \u001b[38;5;241m=\u001b[39m df\u001b[38;5;241m.\u001b[39miloc[\u001b[38;5;241m0\u001b[39m]\u001b[38;5;241m.\u001b[39mto_dict()\n\u001b[1;32m     74\u001b[0m \u001b[38;5;28mprint\u001b[39m(df\u001b[38;5;241m.\u001b[39mkeys()) \n\u001b[1;32m     75\u001b[0m df \u001b[38;5;241m=\u001b[39m {\n\u001b[1;32m     76\u001b[0m     \u001b[38;5;124m'\u001b[39m\u001b[38;5;124mrun\u001b[39m\u001b[38;5;124m'\u001b[39m: df[\u001b[38;5;124m'\u001b[39m\u001b[38;5;124mrun\u001b[39m\u001b[38;5;124m'\u001b[39m],\n\u001b[1;32m     77\u001b[0m     \u001b[38;5;124m'\u001b[39m\u001b[38;5;124mmeasures\u001b[39m\u001b[38;5;124m'\u001b[39m: {\u001b[38;5;124m'\u001b[39m\u001b[38;5;124mx\u001b[39m\u001b[38;5;124m'\u001b[39m: input_measure, \u001b[38;5;124m'\u001b[39m\u001b[38;5;124my\u001b[39m\u001b[38;5;124m'\u001b[39m: \u001b[38;5;124mf\u001b[39m\u001b[38;5;124m'\u001b[39m\u001b[38;5;132;01m{\u001b[39;00mground_truth_measure\u001b[38;5;132;01m}\u001b[39;00m\u001b[38;5;124m@\u001b[39m\u001b[38;5;132;01m{\u001b[39;00mdepth\u001b[38;5;132;01m}\u001b[39;00m\u001b[38;5;124m'\u001b[39m},\n\u001b[0;32m---> 78\u001b[0m     \u001b[38;5;124m'\u001b[39m\u001b[38;5;124mx\u001b[39m\u001b[38;5;124m'\u001b[39m: json\u001b[38;5;241m.\u001b[39mloads(\u001b[43mdf\u001b[49m\u001b[43m[\u001b[49m\u001b[43m(\u001b[49m\u001b[38;5;124;43mf\u001b[39;49m\u001b[38;5;124;43m'\u001b[39;49m\u001b[38;5;124;43mdepth-\u001b[39;49m\u001b[38;5;132;43;01m{\u001b[39;49;00m\u001b[43mdepth\u001b[49m\u001b[38;5;132;43;01m}\u001b[39;49;00m\u001b[38;5;124;43m-incomplete\u001b[39;49m\u001b[38;5;124;43m'\u001b[39;49m\u001b[43m,\u001b[49m\u001b[43m \u001b[49m\u001b[43minput_measure\u001b[49m\u001b[43m)\u001b[49m\u001b[43m]\u001b[49m),\n\u001b[1;32m     79\u001b[0m     \u001b[38;5;124m'\u001b[39m\u001b[38;5;124my\u001b[39m\u001b[38;5;124m'\u001b[39m: json\u001b[38;5;241m.\u001b[39mloads(df[(\u001b[38;5;124mf\u001b[39m\u001b[38;5;124m'\u001b[39m\u001b[38;5;124mdepth-\u001b[39m\u001b[38;5;132;01m{\u001b[39;00mdepth\u001b[38;5;132;01m}\u001b[39;00m\u001b[38;5;124m-complete\u001b[39m\u001b[38;5;124m'\u001b[39m, \u001b[38;5;124mf\u001b[39m\u001b[38;5;124m'\u001b[39m\u001b[38;5;132;01m{\u001b[39;00mground_truth_measure\u001b[38;5;132;01m}\u001b[39;00m\u001b[38;5;124m@\u001b[39m\u001b[38;5;132;01m{\u001b[39;00mdepth\u001b[38;5;132;01m}\u001b[39;00m\u001b[38;5;124m'\u001b[39m)])\n\u001b[1;32m     80\u001b[0m }\n\u001b[1;32m     82\u001b[0m ret \u001b[38;5;241m=\u001b[39m []\n\u001b[1;32m     84\u001b[0m \u001b[38;5;28;01mfor\u001b[39;00m query_id, y \u001b[38;5;129;01min\u001b[39;00m df[\u001b[38;5;124m'\u001b[39m\u001b[38;5;124my\u001b[39m\u001b[38;5;124m'\u001b[39m]\u001b[38;5;241m.\u001b[39mitems():\n",
      "\u001b[0;31mKeyError\u001b[0m: ('depth-10-incomplete', 'bs-run-and-pool-dependent2-1000-ndcg@10')"
     ]
    }
   ],
   "source": [
    "cross_validation_experiment(\n",
    "    trec='trec23',\n",
    "    input_measure=['bs-run-and-pool-dependent2-1000-ndcg@10-ndcg@10'],\n",
    "    models=[UpperBoundDeltaModel(0.01, 'condensed-ndcg@10'), UpperBoundDeltaModel(0.05, 'condensed-ndcg@10')],\n",
    "    out_dir='cross-val-tmp',\n",
    "    clean=True,\n",
    "    working_dir='../resources',\n",
    "    failsave=False,\n",
    ")"
   ]
  },
  {
   "cell_type": "code",
   "execution_count": 28,
   "id": "27849509-6677-4690-bcb7-8278524d17e6",
   "metadata": {},
   "outputs": [
    {
     "name": "stdout",
     "output_type": "stream",
     "text": [
      "{\"run\":\"CiirAll1\",\"query\":\"251\",\"x\":0.6255305904,\"y\":0.6182898744,\"measures\":{\"x\":\"condensed-ndcg@10\",\"y\":\"ndcg@10\"},\"split\":0,\"y_prediction\":1.0,\"model\":\"gsd-upper-bound-0.01-condensed-ndcg@10\"}\n",
      "{\"run\":\"CiirAll1\",\"query\":\"252\",\"x\":0.3386717994,\"y\":0.3448848696,\"measures\":{\"x\":\"condensed-ndcg@10\",\"y\":\"ndcg@10\"},\"split\":0,\"y_prediction\":0.6773435988,\"model\":\"gsd-upper-bound-0.01-condensed-ndcg@10\"}\n",
      "{\"run\":\"CiirAll1\",\"query\":\"253\",\"x\":0.7299030956,\"y\":0.4095011709,\"measures\":{\"x\":\"condensed-ndcg@10\",\"y\":\"ndcg@10\"},\"split\":0,\"y_prediction\":1.0,\"model\":\"gsd-upper-bound-0.01-condensed-ndcg@10\"}\n",
      "{\"run\":\"CiirAll1\",\"query\":\"254\",\"x\":0.366516477,\"y\":0.366516477,\"measures\":{\"x\":\"condensed-ndcg@10\",\"y\":\"ndcg@10\"},\"split\":0,\"y_prediction\":0.7330329539,\"model\":\"gsd-upper-bound-0.01-condensed-ndcg@10\"}\n",
      "{\"run\":\"CiirAll1\",\"query\":\"257\",\"x\":0.3772655863,\"y\":0.3480449474,\"measures\":{\"x\":\"condensed-ndcg@10\",\"y\":\"ndcg@10\"},\"split\":0,\"y_prediction\":0.7545311726,\"model\":\"gsd-upper-bound-0.01-condensed-ndcg@10\"}\n",
      "{\"run\":\"CiirAll1\",\"query\":\"260\",\"x\":0.1717749503,\"y\":0.1717749503,\"measures\":{\"x\":\"condensed-ndcg@10\",\"y\":\"ndcg@10\"},\"split\":0,\"y_prediction\":0.3435499007,\"model\":\"gsd-upper-bound-0.01-condensed-ndcg@10\"}\n",
      "{\"run\":\"CiirAll1\",\"query\":\"262\",\"x\":0.8978166867,\"y\":0.849062856,\"measures\":{\"x\":\"condensed-ndcg@10\",\"y\":\"ndcg@10\"},\"split\":0,\"y_prediction\":1.0,\"model\":\"gsd-upper-bound-0.01-condensed-ndcg@10\"}\n",
      "{\"run\":\"CiirAll1\",\"query\":\"266\",\"x\":0.6426355147,\"y\":0.5096306651,\"measures\":{\"x\":\"condensed-ndcg@10\",\"y\":\"ndcg@10\"},\"split\":0,\"y_prediction\":1.0,\"model\":\"gsd-upper-bound-0.01-condensed-ndcg@10\"}\n",
      "{\"run\":\"CiirAll1\",\"query\":\"269\",\"x\":0.0,\"y\":0.0,\"measures\":{\"x\":\"condensed-ndcg@10\",\"y\":\"ndcg@10\"},\"split\":0,\"y_prediction\":0.0,\"model\":\"gsd-upper-bound-0.01-condensed-ndcg@10\"}\n",
      "{\"run\":\"CiirAll1\",\"query\":\"271\",\"x\":0.0,\"y\":0.0,\"measures\":{\"x\":\"condensed-ndcg@10\",\"y\":\"ndcg@10\"},\"split\":0,\"y_prediction\":0.0,\"model\":\"gsd-upper-bound-0.01-condensed-ndcg@10\"}\n"
     ]
    }
   ],
   "source": [
    "!head cross-val-tmp/condensed-ndcg@10-results.jsonl"
   ]
  },
  {
   "cell_type": "markdown",
   "id": "ebc6ccc0-75d4-41eb-bf7f-f35a030c003a",
   "metadata": {},
   "source": [
    "### Step 2 Run Cross Validation"
   ]
  },
  {
   "cell_type": "code",
   "execution_count": 4,
   "id": "eeaa7b2d-4712-4be9-ba20-7006ca0b7a3f",
   "metadata": {},
   "outputs": [
    {
     "name": "stdout",
     "output_type": "stream",
     "text": [
      "trec13\n"
     ]
    },
    {
     "name": "stderr",
     "output_type": "stream",
     "text": [
      "100%|███████████████████████████████████████████████████████████████████████████████████████████████████████████| 877/877 [02:08<00:00,  6.83it/s]\n",
      "bs-p-1000-ndcg@10-ndcg@10 on trec13: 100%|██████████████████████████████████████████████████████████████████████| 110/110 [38:48<00:00, 21.16s/it]\n",
      "bs-run-and-pool-dependent-1000-ndcg@10-ndcg@10 on trec13:  53%|██████████████████████████▎                       | 58/110 [19:42<17:40, 20.39s/it]\n"
     ]
    },
    {
     "ename": "TypeError",
     "evalue": "the JSON object must be str, bytes or bytearray, not float",
     "output_type": "error",
     "traceback": [
      "\u001b[0;31m---------------------------------------------------------------------------\u001b[0m",
      "\u001b[0;31mTypeError\u001b[0m                                 Traceback (most recent call last)",
      "Input \u001b[0;32mIn [4]\u001b[0m, in \u001b[0;36m<cell line: 3>\u001b[0;34m()\u001b[0m\n\u001b[1;32m      4\u001b[0m \u001b[38;5;28mprint\u001b[39m(trec)\n\u001b[1;32m      5\u001b[0m bootstrap_types \u001b[38;5;241m=\u001b[39m [\u001b[38;5;124m'\u001b[39m\u001b[38;5;124mbs-p-1000-ndcg@10-ndcg@10\u001b[39m\u001b[38;5;124m'\u001b[39m, \u001b[38;5;124m'\u001b[39m\u001b[38;5;124mbs-run-and-pool-dependent-1000-ndcg@10-ndcg@10\u001b[39m\u001b[38;5;124m'\u001b[39m, \u001b[38;5;124m'\u001b[39m\u001b[38;5;124mbs-pool-dependent-1000-ndcg@10-ndcg@10\u001b[39m\u001b[38;5;124m'\u001b[39m, \u001b[38;5;124m'\u001b[39m\u001b[38;5;124mbs-run-dependent-1000-ndcg@10-ndcg@10\u001b[39m\u001b[38;5;124m'\u001b[39m]\n\u001b[0;32m----> 6\u001b[0m \u001b[43mcross_validation_experiment\u001b[49m\u001b[43m(\u001b[49m\n\u001b[1;32m      7\u001b[0m \u001b[43m    \u001b[49m\u001b[43mtrec\u001b[49m\u001b[38;5;241;43m=\u001b[39;49m\u001b[43mtrec\u001b[49m\u001b[43m,\u001b[49m\n\u001b[1;32m      8\u001b[0m \u001b[43m    \u001b[49m\u001b[43mbootstrap_types\u001b[49m\u001b[38;5;241;43m=\u001b[39;49m\u001b[43mbootstrap_types\u001b[49m\u001b[43m,\u001b[49m\n\u001b[1;32m      9\u001b[0m \u001b[43m\u001b[49m\u001b[43m)\u001b[49m\n",
      "File \u001b[0;32m/mnt/ceph/storage/data-tmp/2022/kibi9872/ecir23-incomplete-judgments/src/main/ipynb/../python/cross_validation_util.py:19\u001b[0m, in \u001b[0;36mcross_validation_experiment\u001b[0;34m(trec, bootstrap_types, max_runs, search_space)\u001b[0m\n\u001b[1;32m     16\u001b[0m subprocess\u001b[38;5;241m.\u001b[39mcheck_output([\u001b[38;5;124m'\u001b[39m\u001b[38;5;124mrm\u001b[39m\u001b[38;5;124m'\u001b[39m, \u001b[38;5;124m'\u001b[39m\u001b[38;5;124m-rf\u001b[39m\u001b[38;5;124m'\u001b[39m, out_dir])\n\u001b[1;32m     18\u001b[0m \u001b[38;5;28;01mfor\u001b[39;00m bootstrap_type \u001b[38;5;129;01min\u001b[39;00m bootstrap_types:\n\u001b[0;32m---> 19\u001b[0m     \u001b[43mrun_cross_validation_on_runs\u001b[49m\u001b[43m(\u001b[49m\u001b[38;5;28;43mmin\u001b[39;49m\u001b[43m(\u001b[49m\u001b[43mmax_runs\u001b[49m\u001b[43m,\u001b[49m\u001b[43m \u001b[49m\u001b[38;5;28;43mlen\u001b[39;49m\u001b[43m(\u001b[49m\u001b[43meval_df\u001b[49m\u001b[43m)\u001b[49m\u001b[43m)\u001b[49m\u001b[43m,\u001b[49m\u001b[43m \u001b[49m\u001b[43meval_df\u001b[49m\u001b[43m,\u001b[49m\u001b[43m \u001b[49m\u001b[43mbootstrap_type\u001b[49m\u001b[43m,\u001b[49m\n\u001b[1;32m     20\u001b[0m \u001b[43m                                 \u001b[49m\u001b[43mtrec\u001b[49m\u001b[43m,\u001b[49m\u001b[43m \u001b[49m\u001b[43msearch_space\u001b[49m\u001b[43m,\u001b[49m\u001b[43m \u001b[49m\u001b[43mbootstrap_type\u001b[49m\u001b[43m \u001b[49m\u001b[38;5;241;43m==\u001b[39;49m\u001b[43m \u001b[49m\u001b[43mbootstrap_types\u001b[49m\u001b[43m[\u001b[49m\u001b[38;5;241;43m0\u001b[39;49m\u001b[43m]\u001b[49m\u001b[43m)\u001b[49m\n",
      "File \u001b[0;32m/mnt/ceph/storage/data-tmp/2022/kibi9872/ecir23-incomplete-judgments/src/main/ipynb/../python/cross_validation_util.py:26\u001b[0m, in \u001b[0;36mrun_cross_validation_on_runs\u001b[0;34m(runs, eval_df, bootstrap_type, trec, search_space, trivial_ones)\u001b[0m\n\u001b[1;32m     24\u001b[0m ret \u001b[38;5;241m=\u001b[39m []\n\u001b[1;32m     25\u001b[0m \u001b[38;5;28;01mfor\u001b[39;00m i \u001b[38;5;129;01min\u001b[39;00m tqdm(\u001b[38;5;28mlist\u001b[39m(\u001b[38;5;28mrange\u001b[39m(runs)), bootstrap_type \u001b[38;5;241m+\u001b[39m \u001b[38;5;124m'\u001b[39m\u001b[38;5;124m on \u001b[39m\u001b[38;5;124m'\u001b[39m \u001b[38;5;241m+\u001b[39m trec):\n\u001b[0;32m---> 26\u001b[0m     ground_truth_data \u001b[38;5;241m=\u001b[39m \u001b[43mload_ground_truth_data\u001b[49m\u001b[43m(\u001b[49m\n\u001b[1;32m     27\u001b[0m \u001b[43m        \u001b[49m\u001b[43mdf\u001b[49m\u001b[38;5;241;43m=\u001b[39;49m\u001b[43meval_df\u001b[49m\u001b[43m[\u001b[49m\u001b[43meval_df\u001b[49m\u001b[43m[\u001b[49m\u001b[38;5;124;43m'\u001b[39;49m\u001b[38;5;124;43mrun\u001b[39;49m\u001b[38;5;124;43m'\u001b[39;49m\u001b[43m]\u001b[49m\u001b[43m \u001b[49m\u001b[38;5;241;43m==\u001b[39;49m\u001b[43m \u001b[49m\u001b[43meval_df\u001b[49m\u001b[38;5;241;43m.\u001b[39;49m\u001b[43miloc\u001b[49m\u001b[43m[\u001b[49m\u001b[43mi\u001b[49m\u001b[43m]\u001b[49m\u001b[43m[\u001b[49m\u001b[38;5;124;43m'\u001b[39;49m\u001b[38;5;124;43mrun\u001b[39;49m\u001b[38;5;124;43m'\u001b[39;49m\u001b[43m]\u001b[49m\u001b[43m]\u001b[49m\u001b[43m,\u001b[49m\n\u001b[1;32m     28\u001b[0m \u001b[43m        \u001b[49m\u001b[43mground_truth_measure\u001b[49m\u001b[38;5;241;43m=\u001b[39;49m\u001b[38;5;124;43m'\u001b[39;49m\u001b[38;5;124;43mndcg\u001b[39;49m\u001b[38;5;124;43m'\u001b[39;49m\u001b[43m,\u001b[49m\n\u001b[1;32m     29\u001b[0m \u001b[43m        \u001b[49m\u001b[43mdepth\u001b[49m\u001b[38;5;241;43m=\u001b[39;49m\u001b[38;5;241;43m10\u001b[39;49m\u001b[43m,\u001b[49m\n\u001b[1;32m     30\u001b[0m \u001b[43m        \u001b[49m\u001b[43minput_measure\u001b[49m\u001b[38;5;241;43m=\u001b[39;49m\u001b[43mbootstrap_type\u001b[49m\u001b[43m,\u001b[49m\n\u001b[1;32m     31\u001b[0m \u001b[43m        \u001b[49m\u001b[43mrandom_state\u001b[49m\u001b[38;5;241;43m=\u001b[39;49m\u001b[38;5;241;43m3\u001b[39;49m\n\u001b[1;32m     32\u001b[0m \u001b[43m    \u001b[49m\u001b[43m)\u001b[49m\n\u001b[1;32m     34\u001b[0m     out_dir \u001b[38;5;241m=\u001b[39m \u001b[38;5;124mf\u001b[39m\u001b[38;5;124m'\u001b[39m\u001b[38;5;124mcross-validation-results/\u001b[39m\u001b[38;5;132;01m{\u001b[39;00mtrec\u001b[38;5;132;01m}\u001b[39;00m\u001b[38;5;124m'\u001b[39m\n\u001b[1;32m     35\u001b[0m     out_file \u001b[38;5;241m=\u001b[39m \u001b[38;5;124mf\u001b[39m\u001b[38;5;124m'\u001b[39m\u001b[38;5;132;01m{\u001b[39;00mout_dir\u001b[38;5;132;01m}\u001b[39;00m\u001b[38;5;124m/\u001b[39m\u001b[38;5;132;01m{\u001b[39;00mbootstrap_type\u001b[38;5;132;01m}\u001b[39;00m\u001b[38;5;124m-results.jsonl\u001b[39m\u001b[38;5;124m'\u001b[39m\n",
      "File \u001b[0;32m/mnt/ceph/storage/data-tmp/2022/kibi9872/ecir23-incomplete-judgments/src/main/ipynb/../python/result_analysis_utils.py:78\u001b[0m, in \u001b[0;36mload_ground_truth_data\u001b[0;34m(df, ground_truth_measure, depth, input_measure, random_state)\u001b[0m\n\u001b[1;32m     71\u001b[0m     \u001b[38;5;28;01mraise\u001b[39;00m \u001b[38;5;167;01mValueError\u001b[39;00m(\u001b[38;5;124m'\u001b[39m\u001b[38;5;124mI expect exactly one run for the construction of the ground-truth data. Got \u001b[39m\u001b[38;5;124m'\u001b[39m \u001b[38;5;241m+\u001b[39m \u001b[38;5;28mstr\u001b[39m(\u001b[38;5;28mlen\u001b[39m(df)))\n\u001b[1;32m     73\u001b[0m df \u001b[38;5;241m=\u001b[39m df\u001b[38;5;241m.\u001b[39miloc[\u001b[38;5;241m0\u001b[39m]\u001b[38;5;241m.\u001b[39mto_dict()\n\u001b[1;32m     75\u001b[0m df \u001b[38;5;241m=\u001b[39m {\n\u001b[1;32m     76\u001b[0m     \u001b[38;5;124m'\u001b[39m\u001b[38;5;124mrun\u001b[39m\u001b[38;5;124m'\u001b[39m: df[\u001b[38;5;124m'\u001b[39m\u001b[38;5;124mrun\u001b[39m\u001b[38;5;124m'\u001b[39m],\n\u001b[1;32m     77\u001b[0m     \u001b[38;5;124m'\u001b[39m\u001b[38;5;124mmeasures\u001b[39m\u001b[38;5;124m'\u001b[39m: {\u001b[38;5;124m'\u001b[39m\u001b[38;5;124mx\u001b[39m\u001b[38;5;124m'\u001b[39m: input_measure, \u001b[38;5;124m'\u001b[39m\u001b[38;5;124my\u001b[39m\u001b[38;5;124m'\u001b[39m: \u001b[38;5;124mf\u001b[39m\u001b[38;5;124m'\u001b[39m\u001b[38;5;132;01m{\u001b[39;00mground_truth_measure\u001b[38;5;132;01m}\u001b[39;00m\u001b[38;5;124m@\u001b[39m\u001b[38;5;132;01m{\u001b[39;00mdepth\u001b[38;5;132;01m}\u001b[39;00m\u001b[38;5;124m'\u001b[39m},\n\u001b[0;32m---> 78\u001b[0m     \u001b[38;5;124m'\u001b[39m\u001b[38;5;124mx\u001b[39m\u001b[38;5;124m'\u001b[39m: \u001b[43mjson\u001b[49m\u001b[38;5;241;43m.\u001b[39;49m\u001b[43mloads\u001b[49m\u001b[43m(\u001b[49m\u001b[43mdf\u001b[49m\u001b[43m[\u001b[49m\u001b[43m(\u001b[49m\u001b[38;5;124;43mf\u001b[39;49m\u001b[38;5;124;43m'\u001b[39;49m\u001b[38;5;124;43mdepth-\u001b[39;49m\u001b[38;5;132;43;01m{\u001b[39;49;00m\u001b[43mdepth\u001b[49m\u001b[38;5;132;43;01m}\u001b[39;49;00m\u001b[38;5;124;43m-incomplete\u001b[39;49m\u001b[38;5;124;43m'\u001b[39;49m\u001b[43m,\u001b[49m\u001b[43m \u001b[49m\u001b[43minput_measure\u001b[49m\u001b[43m)\u001b[49m\u001b[43m]\u001b[49m\u001b[43m)\u001b[49m,\n\u001b[1;32m     79\u001b[0m     \u001b[38;5;124m'\u001b[39m\u001b[38;5;124my\u001b[39m\u001b[38;5;124m'\u001b[39m: json\u001b[38;5;241m.\u001b[39mloads(df[(\u001b[38;5;124mf\u001b[39m\u001b[38;5;124m'\u001b[39m\u001b[38;5;124mdepth-\u001b[39m\u001b[38;5;132;01m{\u001b[39;00mdepth\u001b[38;5;132;01m}\u001b[39;00m\u001b[38;5;124m-complete\u001b[39m\u001b[38;5;124m'\u001b[39m, \u001b[38;5;124mf\u001b[39m\u001b[38;5;124m'\u001b[39m\u001b[38;5;132;01m{\u001b[39;00mground_truth_measure\u001b[38;5;132;01m}\u001b[39;00m\u001b[38;5;124m@\u001b[39m\u001b[38;5;132;01m{\u001b[39;00mdepth\u001b[38;5;132;01m}\u001b[39;00m\u001b[38;5;124m'\u001b[39m)])\n\u001b[1;32m     80\u001b[0m }\n\u001b[1;32m     82\u001b[0m ret \u001b[38;5;241m=\u001b[39m []\n\u001b[1;32m     84\u001b[0m \u001b[38;5;28;01mfor\u001b[39;00m query_id, y \u001b[38;5;129;01min\u001b[39;00m df[\u001b[38;5;124m'\u001b[39m\u001b[38;5;124my\u001b[39m\u001b[38;5;124m'\u001b[39m]\u001b[38;5;241m.\u001b[39mitems():\n",
      "File \u001b[0;32m/usr/lib/python3.8/json/__init__.py:341\u001b[0m, in \u001b[0;36mloads\u001b[0;34m(s, cls, object_hook, parse_float, parse_int, parse_constant, object_pairs_hook, **kw)\u001b[0m\n\u001b[1;32m    339\u001b[0m \u001b[38;5;28;01melse\u001b[39;00m:\n\u001b[1;32m    340\u001b[0m     \u001b[38;5;28;01mif\u001b[39;00m \u001b[38;5;129;01mnot\u001b[39;00m \u001b[38;5;28misinstance\u001b[39m(s, (\u001b[38;5;28mbytes\u001b[39m, \u001b[38;5;28mbytearray\u001b[39m)):\n\u001b[0;32m--> 341\u001b[0m         \u001b[38;5;28;01mraise\u001b[39;00m \u001b[38;5;167;01mTypeError\u001b[39;00m(\u001b[38;5;124mf\u001b[39m\u001b[38;5;124m'\u001b[39m\u001b[38;5;124mthe JSON object must be str, bytes or bytearray, \u001b[39m\u001b[38;5;124m'\u001b[39m\n\u001b[1;32m    342\u001b[0m                         \u001b[38;5;124mf\u001b[39m\u001b[38;5;124m'\u001b[39m\u001b[38;5;124mnot \u001b[39m\u001b[38;5;132;01m{\u001b[39;00ms\u001b[38;5;241m.\u001b[39m\u001b[38;5;18m__class__\u001b[39m\u001b[38;5;241m.\u001b[39m\u001b[38;5;18m__name__\u001b[39m\u001b[38;5;132;01m}\u001b[39;00m\u001b[38;5;124m'\u001b[39m)\n\u001b[1;32m    343\u001b[0m     s \u001b[38;5;241m=\u001b[39m s\u001b[38;5;241m.\u001b[39mdecode(detect_encoding(s), \u001b[38;5;124m'\u001b[39m\u001b[38;5;124msurrogatepass\u001b[39m\u001b[38;5;124m'\u001b[39m)\n\u001b[1;32m    345\u001b[0m \u001b[38;5;28;01mif\u001b[39;00m \u001b[38;5;124m\"\u001b[39m\u001b[38;5;124mencoding\u001b[39m\u001b[38;5;124m\"\u001b[39m \u001b[38;5;129;01min\u001b[39;00m kw:\n",
      "\u001b[0;31mTypeError\u001b[0m: the JSON object must be str, bytes or bytearray, not float"
     ]
    }
   ],
   "source": [
    "# ToDo: Parallelize with slurm\n",
    "#for trec in ['trec13', 'trec18', 'trec19', 'trec20', 'trec21', 'trec22', 'trec23']:\n",
    "for trec in ['trec13']:\n",
    "    print(trec)\n",
    "    bootstrap_types = ['bs-p-1000-ndcg@10-ndcg@10', 'bs-run-and-pool-dependent-1000-ndcg@10-ndcg@10', 'bs-pool-dependent-1000-ndcg@10-ndcg@10', 'bs-run-dependent-1000-ndcg@10-ndcg@10']\n",
    "    cross_validation_experiment(\n",
    "        trec=trec,\n",
    "        bootstrap_types=bootstrap_types,\n",
    "    )"
   ]
  },
  {
   "cell_type": "code",
   "execution_count": 2,
   "id": "92b680eb-bd10-4266-aa1e-b3dde156c332",
   "metadata": {},
   "outputs": [
    {
     "name": "stderr",
     "output_type": "stream",
     "text": [
      "100%|███████████████████████████████████████████████████████████████████████████████████████████████████████████| 639/639 [00:26<00:00, 24.08it/s]\n",
      "bs-p-1000-ndcg@10-ndcg@10 on trec18: 100%|████████████████████████████████████████████████████████████████████████| 71/71 [11:49<00:00, 10.00s/it]\n",
      "bs-run-and-pool-dependent-1000-ndcg@10-ndcg@10 on trec18: 100%|███████████████████████████████████████████████████| 71/71 [14:36<00:00, 12.34s/it]\n",
      "bs-pool-dependent-1000-ndcg@10-ndcg@10 on trec18: 100%|███████████████████████████████████████████████████████████| 71/71 [08:18<00:00,  7.02s/it]\n",
      "bs-run-dependent-1000-ndcg@10-ndcg@10 on trec18: 100%|████████████████████████████████████████████████████████████| 71/71 [06:55<00:00,  5.85s/it]\n"
     ]
    }
   ],
   "source": [
    "# ToDo: Parallelize with slurm\n",
    "for trec in ['trec13', 'trec18', 'trec19', 'trec20', 'trec21', 'trec22', 'trec23']:\n",
    "    for bootstrap_type in ['bs-p-1000-ndcg@10-ndcg@10', 'bs-run-and-pool-dependent-1000-ndcg@10-ndcg@10', 'bs-pool-dependent-1000-ndcg@10-ndcg@10', 'bs-run-dependent-1000-ndcg@10-ndcg@10']:\n",
    "        cross_validation_experiment(\n",
    "            trec=trec,\n",
    "            bootstrap_types=[bootstrap_type],\n",
    "        )"
   ]
  }
 ],
 "metadata": {
  "kernelspec": {
   "display_name": "Python 3 (ipykernel)",
   "language": "python",
   "name": "python3"
  },
  "language_info": {
   "codemirror_mode": {
    "name": "ipython",
    "version": 3
   },
   "file_extension": ".py",
   "mimetype": "text/x-python",
   "name": "python",
   "nbconvert_exporter": "python",
   "pygments_lexer": "ipython3",
   "version": "3.8.10"
  }
 },
 "nbformat": 4,
 "nbformat_minor": 5
}
