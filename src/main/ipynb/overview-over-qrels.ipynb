{
 "cells": [
  {
   "cell_type": "markdown",
   "id": "5759ab9a-62f5-4323-b868-fbce2d575027",
   "metadata": {},
   "source": [
    "# Analyze QRELS"
   ]
  },
  {
   "cell_type": "code",
   "execution_count": 2,
   "id": "d5d7ecc7-9d22-4b11-b3b3-6a40e9e46833",
   "metadata": {},
   "outputs": [
    {
     "data": {
      "text/html": [
       "<div>\n",
       "<style scoped>\n",
       "    .dataframe tbody tr th:only-of-type {\n",
       "        vertical-align: middle;\n",
       "    }\n",
       "\n",
       "    .dataframe tbody tr th {\n",
       "        vertical-align: top;\n",
       "    }\n",
       "\n",
       "    .dataframe thead th {\n",
       "        text-align: right;\n",
       "    }\n",
       "</style>\n",
       "<table border=\"1\" class=\"dataframe\">\n",
       "  <thead>\n",
       "    <tr style=\"text-align: right;\">\n",
       "      <th></th>\n",
       "      <th>corpus</th>\n",
       "      <th>(complete, 0)</th>\n",
       "      <th>(complete, 2)</th>\n",
       "      <th>(complete, 1)</th>\n",
       "      <th>(unjudged, 0)</th>\n",
       "      <th>(unjudged, 2)</th>\n",
       "      <th>(unjudged, 1)</th>\n",
       "      <th>(incomplete, 0)</th>\n",
       "      <th>(incomplete, 2)</th>\n",
       "      <th>(incomplete, 1)</th>\n",
       "      <th>(complete, 3)</th>\n",
       "      <th>(complete, 4)</th>\n",
       "      <th>(unjudged, 3)</th>\n",
       "      <th>(unjudged, 4)</th>\n",
       "      <th>(incomplete, 3)</th>\n",
       "      <th>(incomplete, 4)</th>\n",
       "    </tr>\n",
       "  </thead>\n",
       "  <tbody>\n",
       "    <tr>\n",
       "      <th>0</th>\n",
       "      <td>trec-covid</td>\n",
       "      <td>0.629795</td>\n",
       "      <td>0.214591</td>\n",
       "      <td>0.155614</td>\n",
       "      <td>0.747959</td>\n",
       "      <td>0.232653</td>\n",
       "      <td>0.019388</td>\n",
       "      <td>0.628049</td>\n",
       "      <td>0.214324</td>\n",
       "      <td>0.157627</td>\n",
       "      <td>NaN</td>\n",
       "      <td>NaN</td>\n",
       "      <td>NaN</td>\n",
       "      <td>NaN</td>\n",
       "      <td>NaN</td>\n",
       "      <td>NaN</td>\n",
       "    </tr>\n",
       "    <tr>\n",
       "      <th>1</th>\n",
       "      <td>ClueWeb09</td>\n",
       "      <td>0.779112</td>\n",
       "      <td>0.050649</td>\n",
       "      <td>0.155667</td>\n",
       "      <td>0.801625</td>\n",
       "      <td>0.038258</td>\n",
       "      <td>0.147245</td>\n",
       "      <td>0.746183</td>\n",
       "      <td>0.068773</td>\n",
       "      <td>0.167987</td>\n",
       "      <td>0.006997</td>\n",
       "      <td>0.007574</td>\n",
       "      <td>0.006302</td>\n",
       "      <td>0.006571</td>\n",
       "      <td>0.008015</td>\n",
       "      <td>0.009042</td>\n",
       "    </tr>\n",
       "    <tr>\n",
       "      <th>2</th>\n",
       "      <td>ClueWeb12</td>\n",
       "      <td>0.654629</td>\n",
       "      <td>0.085206</td>\n",
       "      <td>0.243682</td>\n",
       "      <td>0.671119</td>\n",
       "      <td>0.076557</td>\n",
       "      <td>0.239844</td>\n",
       "      <td>0.639059</td>\n",
       "      <td>0.093372</td>\n",
       "      <td>0.247305</td>\n",
       "      <td>0.014937</td>\n",
       "      <td>0.001547</td>\n",
       "      <td>0.011064</td>\n",
       "      <td>0.001415</td>\n",
       "      <td>0.018593</td>\n",
       "      <td>0.001670</td>\n",
       "    </tr>\n",
       "    <tr>\n",
       "      <th>3</th>\n",
       "      <td>Robust04</td>\n",
       "      <td>0.944087</td>\n",
       "      <td>0.003311</td>\n",
       "      <td>0.052603</td>\n",
       "      <td>0.958155</td>\n",
       "      <td>0.001505</td>\n",
       "      <td>0.040340</td>\n",
       "      <td>0.798735</td>\n",
       "      <td>0.021966</td>\n",
       "      <td>0.179299</td>\n",
       "      <td>NaN</td>\n",
       "      <td>NaN</td>\n",
       "      <td>NaN</td>\n",
       "      <td>NaN</td>\n",
       "      <td>NaN</td>\n",
       "      <td>NaN</td>\n",
       "    </tr>\n",
       "  </tbody>\n",
       "</table>\n",
       "</div>"
      ],
      "text/plain": [
       "       corpus  (complete, 0)  (complete, 2)  (complete, 1)  (unjudged, 0)  \\\n",
       "0  trec-covid       0.629795       0.214591       0.155614       0.747959   \n",
       "1   ClueWeb09       0.779112       0.050649       0.155667       0.801625   \n",
       "2   ClueWeb12       0.654629       0.085206       0.243682       0.671119   \n",
       "3    Robust04       0.944087       0.003311       0.052603       0.958155   \n",
       "\n",
       "   (unjudged, 2)  (unjudged, 1)  (incomplete, 0)  (incomplete, 2)  \\\n",
       "0       0.232653       0.019388         0.628049         0.214324   \n",
       "1       0.038258       0.147245         0.746183         0.068773   \n",
       "2       0.076557       0.239844         0.639059         0.093372   \n",
       "3       0.001505       0.040340         0.798735         0.021966   \n",
       "\n",
       "   (incomplete, 1)  (complete, 3)  (complete, 4)  (unjudged, 3)  \\\n",
       "0         0.157627            NaN            NaN            NaN   \n",
       "1         0.167987       0.006997       0.007574       0.006302   \n",
       "2         0.247305       0.014937       0.001547       0.011064   \n",
       "3         0.179299            NaN            NaN            NaN   \n",
       "\n",
       "   (unjudged, 4)  (incomplete, 3)  (incomplete, 4)  \n",
       "0            NaN              NaN              NaN  \n",
       "1       0.006571         0.008015         0.009042  \n",
       "2       0.001415         0.018593         0.001670  \n",
       "3            NaN              NaN              NaN  "
      ]
     },
     "execution_count": 2,
     "metadata": {},
     "output_type": "execute_result"
    }
   ],
   "source": [
    "import json\n",
    "import pandas as pd\n",
    "\n",
    "df_raw = [json.loads(i) for i in open('overview-over-qrels.jsonl', 'r')]\n",
    "\n",
    "df = {}\n",
    "for i in df_raw:\n",
    "    if i['corpus'] not in df:\n",
    "        df[i['corpus']] = {'complete': {}, 'unjudged': {}, 'incomplete': {}}\n",
    "    \n",
    "    for qrel_type, data in i['qrels'].items():\n",
    "        for label, count in data.items():\n",
    "            if label not in df[i['corpus']][qrel_type]:\n",
    "                df[i['corpus']][qrel_type][label] = []\n",
    "\n",
    "            df[i['corpus']][qrel_type][label] += [count]\n",
    "\n",
    "df_sum = []\n",
    "\n",
    "for corpus, data in df.items():\n",
    "    tmp = {'corpus': corpus}\n",
    "    \n",
    "    for qrel_type, labels in data.items():\n",
    "        cnt_all = sum([sum(i) for i in labels.values()])\n",
    "        \n",
    "        for label, count in labels.items():\n",
    "            count = sum(count)\n",
    "            \n",
    "            tmp[(qrel_type, int(label))] = count / cnt_all\n",
    "    df_sum += [tmp]\n",
    "\n",
    "df_sum = pd.DataFrame(df_sum)\n",
    "df_sum"
   ]
  },
  {
   "cell_type": "markdown",
   "id": "59e96ab3-29f8-4480-bcbf-da0637c9406e",
   "metadata": {
    "tags": []
   },
   "source": [
    "### Load Data for Corpus TREC-COVID"
   ]
  },
  {
   "cell_type": "code",
   "execution_count": 53,
   "id": "0ca31053-0db3-4fce-a377-dfde85986cf1",
   "metadata": {},
   "outputs": [],
   "source": [
    "from trectools import TrecQrel\n",
    "from tqdm import tqdm\n",
    "import json\n",
    "\n",
    "def calc_aggregate_qrels(qrels_incomplete, qrels_complete):\n",
    "    if type(qrels_incomplete) is str:\n",
    "        return calc_aggregate_qrels(TrecQrel(qrels_incomplete), qrels_complete)\n",
    "    if type(qrels_complete) is str:\n",
    "        return calc_aggregate_qrels(qrels_incomplete, TrecQrel(qrels_complete))\n",
    "    \n",
    "    \n",
    "    qrels_incomplete = {(int(i['query']), i['docid']): max(int(i['rel']), 0) for _, i in qrels_incomplete.qrels_data.iterrows()}\n",
    "    qrels_complete = {(int(i['query']), i['docid']): max(int(i['rel']), 0) for _, i in qrels_complete.qrels_data.iterrows()}\n",
    "    \n",
    "    ret = {'complete': {}, 'unjudged': {}, 'incomplete': {}}\n",
    "    \n",
    "    for i in list(set(list(qrels_incomplete.keys()) + list(qrels_complete.keys()))):\n",
    "        label = qrels_complete[i]\n",
    "        \n",
    "        for name in ret.keys():\n",
    "            if label not in ret[name]:\n",
    "                ret[name][label] = 0\n",
    "        \n",
    "        ret['complete'][label] += 1\n",
    "        \n",
    "        if i not in qrels_incomplete:\n",
    "            ret['unjudged'][label] += 1\n",
    "        else:\n",
    "            ret['incomplete'][label] += 1\n",
    "    \n",
    "    return ret\n",
    "\n",
    "tmp = calc_aggregate_qrels('../resources/unprocessed/topics-and-qrels/qrels.trec-covid-incomplete.txt', '../resources/unprocessed/topics-and-qrels/qrels.trec-covid-complete.txt',)\n",
    "json.dump({'corpus': 'trec-covid', 'qrels': tmp}, open('overview-over-qrels.jsonl', 'w'))"
   ]
  },
  {
   "cell_type": "code",
   "execution_count": 21,
   "id": "d4a98d20-5c4d-4100-88e2-fc1546e8e335",
   "metadata": {},
   "outputs": [
    {
     "data": {
      "text/plain": [
       "dict_keys(['groups', 'pool_entries'])"
      ]
     },
     "execution_count": 21,
     "metadata": {},
     "output_type": "execute_result"
    }
   ],
   "source": [
    "\n",
    "tmp = json.load(gzip.open('../resources/processed/pool-documents-per-run-trec-system-runs-trec18-web.adhoc.json.gz'))\n",
    "tmp.keys()"
   ]
  },
  {
   "cell_type": "code",
   "execution_count": 62,
   "id": "66c3503b-8389-4675-a600-9f588d066a2c",
   "metadata": {},
   "outputs": [],
   "source": [
    "import gzip\n",
    "import sys\n",
    "sys.path.append('../python/')\n",
    "from run_file_processing import IncompletePools\n",
    "from evaluation_util import __adjust_qrels_to_pool\n",
    "\n",
    "def load_groups(name, qrels, corpus):\n",
    "    group_file = f'../resources/processed/pool-documents-per-run-{name}.json.gz'\n",
    "    tmp = json.load(gzip.open(group_file))\n",
    "    qrels_complete = TrecQrel(f'../resources/unprocessed/topics-and-qrels/{qrels}')\n",
    "    \n",
    "    for group, runs in tqdm(tmp['groups'].items()):\n",
    "        pooling = IncompletePools(pool_per_run_file=group_file)\n",
    "        pooling = {k: v for k, v in pooling.create_incomplete_pools_for_run(runs[0]) if k.lower().startswith('depth-10-pool-incomplete-for')}\n",
    "        pooling = list(pooling.values())\n",
    "        assert len(pooling) == 1\n",
    "        pooling = pooling[0]\n",
    "        \n",
    "        qrels_incomplete = __adjust_qrels_to_pool(qrels_complete, pooling)\n",
    "        \n",
    "        out = {'corpus': corpus, 'group': group, 'qrels': calc_aggregate_qrels(qrels_complete=qrels_complete, qrels_incomplete=qrels_incomplete)}\n",
    "        open('overview-over-qrels.jsonl', 'a+').write('\\n')\n",
    "        json.dump(out, open('overview-over-qrels.jsonl', 'a+'))\n",
    "    \n",
    "load_groups('trec-system-runs-trec18-web.adhoc', 'qrels.web.1-50.txt', 'ClueWeb09')"
   ]
  },
  {
   "cell_type": "code",
   "execution_count": 58,
   "id": "c0794bb8-be91-404b-a2fd-cac13d420754",
   "metadata": {},
   "outputs": [
    {
     "name": "stderr",
     "output_type": "stream",
     "text": [
      "100%|██████████| 20/20 [01:46<00:00,  5.33s/it]\n",
      "100%|██████████| 14/14 [00:52<00:00,  3.73s/it]\n",
      "100%|██████████| 12/12 [00:38<00:00,  3.24s/it]\n"
     ]
    }
   ],
   "source": [
    "load_groups('trec-system-runs-trec19-web.adhoc', 'qrels.web.51-100.txt', 'ClueWeb09')\n",
    "load_groups('trec-system-runs-trec20-web.adhoc', 'qrels.web.101-150.txt', 'ClueWeb09')\n",
    "load_groups('trec-system-runs-trec21-web.adhoc', 'qrels.web.151-200.txt', 'ClueWeb09')"
   ]
  },
  {
   "cell_type": "code",
   "execution_count": 59,
   "id": "84b87c4a-41e8-45ad-9218-df1922fa5829",
   "metadata": {},
   "outputs": [
    {
     "name": "stderr",
     "output_type": "stream",
     "text": [
      "100%|██████████| 14/14 [00:48<00:00,  3.43s/it]\n",
      "100%|██████████| 12/12 [00:36<00:00,  3.05s/it]\n"
     ]
    }
   ],
   "source": [
    "load_groups('trec-system-runs-trec22-web', 'qrels.web.201-250.txt', 'ClueWeb12')\n",
    "load_groups('trec-system-runs-trec23-web', 'qrels.web.251-300.txt', 'ClueWeb12')"
   ]
  },
  {
   "cell_type": "code",
   "execution_count": 64,
   "id": "8962a477-c698-4372-ac09-f8e09bc82b7a",
   "metadata": {},
   "outputs": [
    {
     "name": "stderr",
     "output_type": "stream",
     "text": [
      "100%|██████████| 14/14 [18:38<00:00, 79.89s/it]\n"
     ]
    }
   ],
   "source": [
    "load_groups('trec-system-runs-trec13-robust', 'qrels.robust04.txt', 'Robust04')"
   ]
  }
 ],
 "metadata": {
  "kernelspec": {
   "display_name": "Python 3",
   "language": "python",
   "name": "python3"
  },
  "language_info": {
   "codemirror_mode": {
    "name": "ipython",
    "version": 3
   },
   "file_extension": ".py",
   "mimetype": "text/x-python",
   "name": "python",
   "nbconvert_exporter": "python",
   "pygments_lexer": "ipython3",
   "version": "3.6.15"
  }
 },
 "nbformat": 4,
 "nbformat_minor": 5
}
