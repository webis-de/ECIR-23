{
 "cells": [
  {
   "cell_type": "markdown",
   "id": "6faa95e0-96f8-431d-86a1-f5b7eea4b881",
   "metadata": {},
   "source": [
    "# Produce probability-estimation-playground.jsonl"
   ]
  },
  {
   "cell_type": "code",
   "execution_count": 1,
   "id": "87031f09-619c-40f6-bc16-0ede21c7ff66",
   "metadata": {},
   "outputs": [
    {
     "name": "stdout",
     "output_type": "stream",
     "text": [
      "Load runs: \n"
     ]
    },
    {
     "name": "stderr",
     "output_type": "stream",
     "text": [
      "100%|███████████████████████████████████████████████████████████████████████████████████████████████████████████| 110/110 [00:05<00:00, 18.82it/s]"
     ]
    },
    {
     "name": "stdout",
     "output_type": "stream",
     "text": [
      "CPU times: user 6.23 s, sys: 714 ms, total: 6.94 s\n",
      "Wall time: 6.43 s\n"
     ]
    },
    {
     "name": "stderr",
     "output_type": "stream",
     "text": [
      "\n"
     ]
    }
   ],
   "source": [
    "%%time\n",
    "import sys\n",
    "sys.path.append('../python/')\n",
    "\n",
    "from trectools import TrecRun, TrecQrel\n",
    "import pandas as pd\n",
    "from tqdm import tqdm\n",
    "from run_file_processing import load_all_runs, normalize_run\n",
    "from evaluation_util import __adjust_qrels_to_pool\n",
    "from probability_estimation import load_pool_task, CountProbabilityEstimator, RunIndependentCountProbabilityEstimator, PoissonEstimator\n",
    "import json\n",
    "\n",
    "RUNS = list(load_all_runs('../resources/processed/normalized-runs/trec-system-runs/trec13/robust').keys())\n",
    "\n",
    "class PredictAlways0:\n",
    "    def estimate_probabilities(run, qrels, relevance_level):\n",
    "        return {0:1, 1:0, 2:0, 3:0}\n",
    "\n",
    "class PredictAlways1:\n",
    "    def estimate_probabilities(run, qrels, relevance_level):\n",
    "        return {0:0, 1:1, 2:0, 3:0}\n",
    "\n",
    "def persist_eval_input(run, qrels_incomplete, qrels_complete, out):\n",
    "    run = normalize_run(run, 10).run_data\n",
    "    \n",
    "    for topic in tqdm(run['query'].unique()):\n",
    "        run_for_topic = run[run['query'] == topic]\n",
    "        \n",
    "        out_obj = {\n",
    "            'system': run_for_topic.iloc[0]['system'],\n",
    "            'query': run_for_topic.iloc[0]['query'],\n",
    "            'run': run_for_topic.to_json(lines=True, orient='records'),\n",
    "            'qrels_incomplete': qrels_incomplete[qrels_incomplete['query'] == topic].to_json(lines=True, orient='records'),\n",
    "            'qrels_complete': qrels_complete[qrels_complete['query'] == topic].to_json(lines=True, orient='records'),\n",
    "        }\n",
    "        \n",
    "        df = run_for_topic.copy()\n",
    "        df = pd.merge(df, qrels_complete[[\"query\",\"docid\",\"rel\"]], how=\"left\")\n",
    "        df = df[~df[\"rel\"].isnull()]\n",
    "        \n",
    "        if len(df) == 0:\n",
    "            continue\n",
    "        \n",
    "        out.write(json.dumps(out_obj) + '\\n')\n"
   ]
  },
  {
   "cell_type": "code",
   "execution_count": null,
   "id": "8bfc6cca-a568-4975-90d9-fd42edbf65d8",
   "metadata": {},
   "outputs": [
    {
     "name": "stderr",
     "output_type": "stream",
     "text": [
      "100%|███████████████████████████████████████████████████████████████████████████████████████████████████████████| 250/250 [00:27<00:00,  8.97it/s]\n",
      "100%|███████████████████████████████████████████████████████████████████████████████████████████████████████████| 250/250 [00:28<00:00,  8.62it/s]\n",
      "100%|███████████████████████████████████████████████████████████████████████████████████████████████████████████| 250/250 [00:31<00:00,  7.85it/s]\n",
      "100%|███████████████████████████████████████████████████████████████████████████████████████████████████████████| 250/250 [00:30<00:00,  8.23it/s]\n",
      "100%|███████████████████████████████████████████████████████████████████████████████████████████████████████████| 250/250 [00:32<00:00,  7.69it/s]\n",
      "100%|███████████████████████████████████████████████████████████████████████████████████████████████████████████| 250/250 [00:30<00:00,  8.16it/s]\n",
      "100%|███████████████████████████████████████████████████████████████████████████████████████████████████████████| 250/250 [00:32<00:00,  7.79it/s]\n",
      "100%|███████████████████████████████████████████████████████████████████████████████████████████████████████████| 250/250 [00:32<00:00,  7.68it/s]\n",
      "100%|███████████████████████████████████████████████████████████████████████████████████████████████████████████| 250/250 [00:33<00:00,  7.45it/s]\n",
      "100%|███████████████████████████████████████████████████████████████████████████████████████████████████████████| 250/250 [00:32<00:00,  7.60it/s]\n",
      "100%|███████████████████████████████████████████████████████████████████████████████████████████████████████████| 250/250 [00:32<00:00,  7.59it/s]\n",
      "100%|███████████████████████████████████████████████████████████████████████████████████████████████████████████| 250/250 [00:33<00:00,  7.40it/s]\n",
      "100%|███████████████████████████████████████████████████████████████████████████████████████████████████████████| 250/250 [00:32<00:00,  7.58it/s]\n",
      "100%|███████████████████████████████████████████████████████████████████████████████████████████████████████████| 250/250 [00:32<00:00,  7.68it/s]\n",
      "100%|███████████████████████████████████████████████████████████████████████████████████████████████████████████| 250/250 [00:32<00:00,  7.62it/s]\n",
      "100%|███████████████████████████████████████████████████████████████████████████████████████████████████████████| 250/250 [00:33<00:00,  7.47it/s]\n",
      "100%|███████████████████████████████████████████████████████████████████████████████████████████████████████████| 250/250 [00:32<00:00,  7.58it/s]\n",
      "100%|███████████████████████████████████████████████████████████████████████████████████████████████████████████| 250/250 [00:32<00:00,  7.67it/s]\n",
      "100%|███████████████████████████████████████████████████████████████████████████████████████████████████████████| 250/250 [00:32<00:00,  7.58it/s]\n",
      "100%|███████████████████████████████████████████████████████████████████████████████████████████████████████████| 250/250 [00:33<00:00,  7.47it/s]\n",
      "100%|███████████████████████████████████████████████████████████████████████████████████████████████████████████| 250/250 [00:33<00:00,  7.42it/s]\n",
      "100%|███████████████████████████████████████████████████████████████████████████████████████████████████████████| 250/250 [00:36<00:00,  6.83it/s]\n"
     ]
    }
   ],
   "source": [
    "with open('probability-estimation-playground.jsonl', 'w') as f:\n",
    "    for run_name in RUNS:\n",
    "        run = normalize_run(TrecRun(run_name), 10)\n",
    "        qrels = TrecQrel('../resources/unprocessed/topics-and-qrels/qrels.robust04.txt')\n",
    "        task = {\n",
    "            'working_directory': '../resources/',\n",
    "            'trec_identifier': 'trec-system-runs-trec13-robust',\n",
    "            'run': run_name.replace('../resources', 'src/main/resources')\n",
    "        }\n",
    "        pool = load_pool_task(task)\n",
    "        pool = {k:v for k,v in pool.items() if 'depth-10-pool-incomplete-for' in k}\n",
    "        assert len(pool) == 1\n",
    "        pool = pool[list(pool.keys())[0]]\n",
    "\n",
    "        qrels_incomplete = __adjust_qrels_to_pool(qrels, pool)\n",
    "\n",
    "        persist_eval_input(run, qrels_incomplete.qrels_data.copy(), qrels.qrels_data.copy(), f)\n"
   ]
  },
  {
   "cell_type": "code",
   "execution_count": 5,
   "id": "e3686807-4fae-4cdc-a68c-cedebde832cb",
   "metadata": {},
   "outputs": [
    {
     "name": "stdout",
     "output_type": "stream",
     "text": [
      "Done\n"
     ]
    }
   ],
   "source": [
    "print('Done')"
   ]
  }
 ],
 "metadata": {
  "kernelspec": {
   "display_name": "Python 3 (ipykernel)",
   "language": "python",
   "name": "python3"
  },
  "language_info": {
   "codemirror_mode": {
    "name": "ipython",
    "version": 3
   },
   "file_extension": ".py",
   "mimetype": "text/x-python",
   "name": "python",
   "nbconvert_exporter": "python",
   "pygments_lexer": "ipython3",
   "version": "3.8.10"
  }
 },
 "nbformat": 4,
 "nbformat_minor": 5
}
