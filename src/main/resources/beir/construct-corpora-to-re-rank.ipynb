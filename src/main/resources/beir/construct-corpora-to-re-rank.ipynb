{
 "cells": [
  {
   "cell_type": "code",
   "execution_count": 36,
   "id": "4b2415ab-3722-4bd9-8f06-2c994e26da65",
   "metadata": {},
   "outputs": [],
   "source": [
    "import pandas as pd\n",
    "import gzip\n",
    "import json\n",
    "QRELS = ['qrels.trec-covid-additional-judgments.tsv', 'qrels.trec-covid-v1.tsv', 'qrels.trec-covid-v2.tsv']\n",
    "\n",
    "CORPORA = ['trec-covid-beir/corpus-ORIG.jsonl']\n",
    "\n",
    "def load_qrels(qrel_file):\n",
    "    return pd.read_csv('../unprocessed/topics-and-qrels/' + qrel_file, sep='\\t')\n",
    "\n",
    "def load_all_docs():\n",
    "    ret = []\n",
    "    for qrel in QRELS:\n",
    "        ret += list(load_qrels(qrel)['doc_id'])\n",
    "    return set(ret)\n",
    "\n",
    "judged_docs = load_all_docs()\n",
    "\n",
    "for corpus in CORPORA:\n",
    "    with open(corpus.replace('-ORIG', ''), 'w') as out, open(corpus, 'r') as inp:\n",
    "        for l in inp:\n",
    "            doc_id = json.loads(l)['_id']\n",
    "            if doc_id in judged_docs:\n",
    "                out.write(l)\n"
   ]
  },
  {
   "cell_type": "code",
   "execution_count": 31,
   "id": "158c0e84-0e50-4f03-ac1c-c76bc252004e",
   "metadata": {},
   "outputs": [
    {
     "name": "stdout",
     "output_type": "stream",
     "text": [
      "-rw-r--r-- 1 maik maik 16M Sep 19 16:19 trec-covid-v2/corpus.jsonl.gz\n"
     ]
    }
   ],
   "source": [
    "!ls -lha trec-covid-v2/corpus.jsonl.gz"
   ]
  },
  {
   "cell_type": "code",
   "execution_count": 34,
   "id": "09b677f1-565f-4e94-b484-cf4b76f12ad8",
   "metadata": {},
   "outputs": [
    {
     "name": "stdout",
     "output_type": "stream",
     "text": [
      "{\"_id\": \"2b73a28n\", \"title\": \"Role of endothelin-1 in lung disease\", \"text\": \"Endothelin-1 (ET-1) is a 21 amino acid peptide with diverse biological activity that has been implicated in numerous diseases. ET-1 is a potent mitogen regulator of smooth muscle tone, and inflammatory mediator that may play a key role in diseases of the airways, pulmonary circulation, and inflammatory lung diseases, both acute and chronic. This review will focus on the biology of ET-1 and its role in lung disease.\", \"metadata\": {\"url\": \"https://www.ncbi.nlm.nih.gov/pmc/articles/PMC59574/\", \"pubmed_id\": \"11686871\"}}\n",
      "{\"_id\": \"zjufx4fo\", \"title\": \"Sequence requirements for RNA strand transfer during nidovirus discontinuous subgenomic RNA synthesis\", \"text\": \"Nidovirus subgenomic mRNAs contain a leader sequence derived from the 5\\u2032 end of the genome fused to different sequences (\\u2018bodies\\u2019) derived from the 3\\u2032 end. Their generation involves a unique mechanism of discontinuous subgenomic RNA synthesis that resembles copy-choice RNA recombination. During this process, the nascent RNA strand is transferred from one site in the template to another, during either plus or minus strand synthesis, to yield subgenomic RNA molecules. Central to this process are transcription-regulating sequences (TRSs), which are present at both template sites and ensure the fidelity of strand transfer. Here we present results of a comprehensive co-variation mutagenesis study of equine arteritis virus TRSs, demonstrating that discontinuous RNA synthesis depends not only on base pairing between sense leader TRS and antisense body TRS, but also on the primary sequence of the body TRS. While the leader TRS merely plays a targeting role for strand transfer, the body TRS fulfils multiple functions. The sequences of mRNA leader\\u2013body junctions of TRS mutants strongly suggested that the discontinuous step occurs during minus strand synthesis.\", \"metadata\": {\"url\": \"http://europepmc.org/articles/pmc125340?pdf=render\", \"pubmed_id\": \"11742998\"}}\n",
      "\n",
      "gzip: stdout: Broken pipe\n"
     ]
    }
   ],
   "source": [
    "!zcat trec-covid/corpus.jsonl.gz|head -2"
   ]
  },
  {
   "cell_type": "code",
   "execution_count": 52,
   "id": "09fed8cc-f732-4570-9938-cab3a3765ebc",
   "metadata": {},
   "outputs": [],
   "source": [
    "with open('/mnt/ceph/storage-rw/data-tmp/current/kibi9872/beir-ColBERT/colbert-datasets/trec-covid-beir/collection-ORIG.tsv', 'r') as inp, open('/mnt/ceph/storage-rw/data-tmp/current/kibi9872/beir-ColBERT/colbert-datasets/trec-covid-beir/collection.tsv', 'w') as out:\n",
    "    for l in inp:\n",
    "        doc_id = l.split('\\t')[0].strip()\n",
    "        if doc_id in judged_docs:\n",
    "            out.write(l)"
   ]
  },
  {
   "cell_type": "code",
   "execution_count": 50,
   "id": "9fcfb5cf-23b4-43a2-9ef5-5d5d9bcf07ac",
   "metadata": {},
   "outputs": [
    {
     "data": {
      "text/plain": [
       "36016"
      ]
     },
     "execution_count": 50,
     "metadata": {},
     "output_type": "execute_result"
    }
   ],
   "source": [
    "len(judged_docs)"
   ]
  },
  {
   "cell_type": "code",
   "execution_count": 53,
   "id": "26015244-6180-4406-aaf3-e9f8c2e37dc5",
   "metadata": {},
   "outputs": [
    {
     "name": "stdout",
     "output_type": "stream",
     "text": [
      "36016\n"
     ]
    }
   ],
   "source": [
    "!cat /mnt/ceph/storage-rw/data-tmp/current/kibi9872/beir-ColBERT/colbert-datasets/trec-covid-beir/collection.tsv|wc -l"
   ]
  },
  {
   "cell_type": "code",
   "execution_count": 56,
   "id": "499f001c-cb92-4996-bab3-30b7272725a5",
   "metadata": {},
   "outputs": [
    {
     "name": "stdout",
     "output_type": "stream",
     "text": [
      "total 230M\n",
      "-r--r--r-- 1 maik webis-users 185M Sep 19 18:56 collection-ORIG.tsv\n",
      "-r--r--r-- 1 9151 webis-users  45M Sep 19 18:59 collection.tsv\n",
      "-rw-rw-r-- 1 9151 webis-users 3.7K Sep 19 18:42 queries.tsv\n"
     ]
    }
   ],
   "source": [
    "!ls -lh /mnt/ceph/storage-rw/data-tmp/current/kibi9872/beir-ColBERT/colbert-datasets/trec-covid-beir/"
   ]
  },
  {
   "cell_type": "code",
   "execution_count": 45,
   "id": "25553d40-59b5-4465-b7ab-2765b528f6a2",
   "metadata": {},
   "outputs": [],
   "source": [
    "!cp /mnt/ceph/storage-rw/data-tmp/current/kibi9872/beir-ColBERT/colbert-datasets/trec-covid-beir/collection.tsv /mnt/ceph/storage-rw/data-tmp/current/kibi9872/beir-ColBERT/colbert-datasets/trec-covid-beir/collection-ORIG.tsv"
   ]
  }
 ],
 "metadata": {
  "kernelspec": {
   "display_name": "Python 3",
   "language": "python",
   "name": "python3"
  },
  "language_info": {
   "codemirror_mode": {
    "name": "ipython",
    "version": 3
   },
   "file_extension": ".py",
   "mimetype": "text/x-python",
   "name": "python",
   "nbconvert_exporter": "python",
   "pygments_lexer": "ipython3",
   "version": "3.6.15"
  }
 },
 "nbformat": 4,
 "nbformat_minor": 5
}
