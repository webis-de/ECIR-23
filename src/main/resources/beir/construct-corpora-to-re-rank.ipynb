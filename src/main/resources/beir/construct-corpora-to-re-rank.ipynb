{
 "cells": [
  {
   "cell_type": "code",
   "execution_count": 1,
   "id": "4b2415ab-3722-4bd9-8f06-2c994e26da65",
   "metadata": {},
   "outputs": [],
   "source": [
    "import pandas as pd\n",
    "import gzip\n",
    "import json\n",
    "QRELS = ['qrels.trec-covid-additional-judgments.tsv', 'qrels.trec-covid-v1.tsv', 'qrels.trec-covid-v2.tsv']\n",
    "\n",
    "CORPORA = ['trec-covid-beir/corpus-ORIG.jsonl']\n",
    "\n",
    "def load_qrels(qrel_file):\n",
    "    return pd.read_csv('../unprocessed/topics-and-qrels/' + qrel_file, sep='\\t')\n",
    "\n",
    "def load_all_docs():\n",
    "    ret = []\n",
    "    for qrel in QRELS:\n",
    "        ret += list(load_qrels(qrel)['doc_id'])\n",
    "    return set(ret)\n",
    "\n",
    "judged_docs = load_all_docs()\n"
   ]
  },
  {
   "cell_type": "code",
   "execution_count": 31,
   "id": "158c0e84-0e50-4f03-ac1c-c76bc252004e",
   "metadata": {},
   "outputs": [
    {
     "name": "stdout",
     "output_type": "stream",
     "text": [
      "-rw-r--r-- 1 maik maik 16M Sep 19 16:19 trec-covid-v2/corpus.jsonl.gz\n"
     ]
    }
   ],
   "source": [
    "!ls -lha trec-covid-v2/corpus.jsonl.gz"
   ]
  },
  {
   "cell_type": "code",
   "execution_count": 34,
   "id": "09b677f1-565f-4e94-b484-cf4b76f12ad8",
   "metadata": {},
   "outputs": [
    {
     "name": "stdout",
     "output_type": "stream",
     "text": [
      "{\"_id\": \"2b73a28n\", \"title\": \"Role of endothelin-1 in lung disease\", \"text\": \"Endothelin-1 (ET-1) is a 21 amino acid peptide with diverse biological activity that has been implicated in numerous diseases. ET-1 is a potent mitogen regulator of smooth muscle tone, and inflammatory mediator that may play a key role in diseases of the airways, pulmonary circulation, and inflammatory lung diseases, both acute and chronic. This review will focus on the biology of ET-1 and its role in lung disease.\", \"metadata\": {\"url\": \"https://www.ncbi.nlm.nih.gov/pmc/articles/PMC59574/\", \"pubmed_id\": \"11686871\"}}\n",
      "{\"_id\": \"zjufx4fo\", \"title\": \"Sequence requirements for RNA strand transfer during nidovirus discontinuous subgenomic RNA synthesis\", \"text\": \"Nidovirus subgenomic mRNAs contain a leader sequence derived from the 5\\u2032 end of the genome fused to different sequences (\\u2018bodies\\u2019) derived from the 3\\u2032 end. Their generation involves a unique mechanism of discontinuous subgenomic RNA synthesis that resembles copy-choice RNA recombination. During this process, the nascent RNA strand is transferred from one site in the template to another, during either plus or minus strand synthesis, to yield subgenomic RNA molecules. Central to this process are transcription-regulating sequences (TRSs), which are present at both template sites and ensure the fidelity of strand transfer. Here we present results of a comprehensive co-variation mutagenesis study of equine arteritis virus TRSs, demonstrating that discontinuous RNA synthesis depends not only on base pairing between sense leader TRS and antisense body TRS, but also on the primary sequence of the body TRS. While the leader TRS merely plays a targeting role for strand transfer, the body TRS fulfils multiple functions. The sequences of mRNA leader\\u2013body junctions of TRS mutants strongly suggested that the discontinuous step occurs during minus strand synthesis.\", \"metadata\": {\"url\": \"http://europepmc.org/articles/pmc125340?pdf=render\", \"pubmed_id\": \"11742998\"}}\n",
      "\n",
      "gzip: stdout: Broken pipe\n"
     ]
    }
   ],
   "source": [
    "!zcat trec-covid/corpus.jsonl.gz|head -2"
   ]
  },
  {
   "cell_type": "code",
   "execution_count": 5,
   "id": "09fed8cc-f732-4570-9938-cab3a3765ebc",
   "metadata": {},
   "outputs": [],
   "source": [
    "translation = {}\n",
    "current_id = 0\n",
    "\n",
    "with open('/mnt/ceph/storage-rw/data-tmp/current/kibi9872/beir-ColBERT/colbert-datasets/trec-covid-beir/collection-ORIG.tsv', 'r') as inp, open('/mnt/ceph/storage-rw/data-tmp/current/kibi9872/beir-ColBERT/colbert-datasets/trec-covid-beir/collection.tsv', 'w') as out:\n",
    "    for l in inp:\n",
    "        l =  l.split('\\t')\n",
    "        assert len(l) == 2\n",
    "        \n",
    "        doc_id = l[0].strip()\n",
    "        doc_text = l[1].strip()\n",
    "        if doc_id in judged_docs:\n",
    "            out.write(str(current_id) + '\\t' + doc_text + '\\n')\n",
    "            translation[current_id] = doc_id\n",
    "            current_id += 1\n",
    "\n",
    "json.dump(translation, open('/mnt/ceph/storage-rw/data-tmp/current/kibi9872/beir-ColBERT/colbert-datasets/trec-covid-beir/document-ids.json', 'w'))\n",
    "        "
   ]
  },
  {
   "cell_type": "code",
   "execution_count": 10,
   "id": "f602e5a9-a324-43fd-ab52-8cb4cc2b4835",
   "metadata": {},
   "outputs": [],
   "source": [
    "with open('/mnt/ceph/storage-rw/data-tmp/current/kibi9872/beir-ColBERT/colbert-datasets/trec-covid-beir/collection-ORIG.tsv', 'r') as inp, open('/mnt/ceph/storage-rw/data-tmp/current/kibi9872/beir-ColBERT/colbert-datasets/trec-covid-beir/collection-original-ids.tsv', 'w') as out:\n",
    "    for l in inp:\n",
    "        doc_id = l.split('\\t')[0].strip()\n",
    "        if doc_id in judged_docs:\n",
    "            out.write(l)\n"
   ]
  },
  {
   "cell_type": "code",
   "execution_count": 11,
   "id": "9fcfb5cf-23b4-43a2-9ef5-5d5d9bcf07ac",
   "metadata": {},
   "outputs": [
    {
     "data": {
      "text/plain": [
       "36016"
      ]
     },
     "execution_count": 11,
     "metadata": {},
     "output_type": "execute_result"
    }
   ],
   "source": [
    "len(judged_docs)"
   ]
  },
  {
   "cell_type": "code",
   "execution_count": 8,
   "id": "0adecd24-e90d-49b9-a04c-21b193e33230",
   "metadata": {},
   "outputs": [],
   "source": [
    "with open('/mnt/ceph/storage-rw/data-tmp/current/kibi9872/beir-ColBERT/colbert-datasets/trec-covid-beir/document-ids.tsv', 'w') as out:\n",
    "    for k, v in translation.items():\n",
    "        out.write(f'{v}\\t{k}\\n')"
   ]
  },
  {
   "cell_type": "code",
   "execution_count": 12,
   "id": "77085547-3468-4edc-9e41-7952ba4eb723",
   "metadata": {},
   "outputs": [
    {
     "data": {
      "text/plain": [
       "1107"
      ]
     },
     "execution_count": 12,
     "metadata": {},
     "output_type": "execute_result"
    }
   ],
   "source": [
    "len(qrels_for_topic(10))"
   ]
  },
  {
   "cell_type": "code",
   "execution_count": 9,
   "id": "25553d40-59b5-4465-b7ab-2765b528f6a2",
   "metadata": {},
   "outputs": [],
   "source": [
    "def qrels_for_topic(topic):\n",
    "    ret = []\n",
    "    for qrel in QRELS:\n",
    "        qrel = load_qrels(qrel)\n",
    "        qrel['query_id'] = qrel['query_id'].astype(int)\n",
    "        qrel = qrel[qrel['query_id'] == int(topic)]\n",
    "        \n",
    "        ret += list(qrel['doc_id'])\n",
    "\n",
    "\n",
    "    return set(ret)\n",
    "\n"
   ]
  },
  {
   "cell_type": "code",
   "execution_count": 16,
   "id": "d9ac7ca0-873b-4900-b0b2-40fa84026b97",
   "metadata": {},
   "outputs": [
    {
     "name": "stdout",
     "output_type": "stream",
     "text": [
      "a\t\t\t\t\t   msmarco.psg.l2.zip\n",
      "ance-results.json\t\t\t   pl2-run.txt\n",
      "bm25-run.txt\t\t\t\t   sentence-bert-results.json\n",
      "colbert.dnn.zip\t\t\t\t   tf-idf-run.txt\n",
      "colbert-results-normalized-pyterrier.txt   trec-covid\n",
      "colbert-results-pyterrier.txt\t\t   trec-covid-beir\n",
      "colbert-results.tsv\t\t\t   trec-covid-beir.zip\n",
      "construct-corpora-to-re-rank.ipynb\t   trec-covid-v2\n",
      "dlm-run.txt\t\t\t\t   trec-covid-v2.zip\n",
      "hole-at-10-analysis-for-dense-models.xlsx  trec-covid.zip\n"
     ]
    }
   ],
   "source": [
    "!ls ../beir/"
   ]
  },
  {
   "cell_type": "code",
   "execution_count": 18,
   "id": "ff2a1b15-98c5-4448-8d45-3d75d5be0ffa",
   "metadata": {},
   "outputs": [],
   "source": [
    "def beir_json_results_to_run_file(f):\n",
    "    inp = json.load(open(f'../beir/{f}-results.json', 'r'))\n",
    "    ret = []\n",
    "    \n",
    "    for qid, ranking in inp.items():\n",
    "        judged_docs_for_topic = qrels_for_topic(qid)\n",
    "        position = 1\n",
    "        docs = sorted(list(ranking.keys()), key=lambda i: ranking[i], reverse=True)\n",
    "        \n",
    "        for doc in docs:\n",
    "            if doc in judged_docs_for_topic:\n",
    "                ret += [{'qid': qid, 'q0': 'Q0', 'docid': doc, 'rank': position, 'score': ranking[doc], 'system': f}]\n",
    "                position += 1\n",
    "    \n",
    "    return pd.DataFrame(ret)\n",
    "\n",
    "def to_run(f):\n",
    "    beir_json_results_to_run_file(f).to_csv(f'../beir/{f}-run.txt', sep=' ', header=False, index=False)\n",
    "\n",
    "to_run('ance')\n",
    "to_run('sentence-bert')"
   ]
  },
  {
   "cell_type": "code",
   "execution_count": null,
   "id": "0702f86f-6415-4c42-940a-2991854426a0",
   "metadata": {},
   "outputs": [],
   "source": [
    "def beir_json_results_to_run_file(f):\n",
    "    inp = json.load(open(f'../beir/{f}-results.json', 'r'))\n",
    "    ret = []\n",
    "    \n",
    "    for qid, ranking in inp.items():\n",
    "        judged_docs_for_topic = qrels_for_topic(qid)\n",
    "        position = 1\n",
    "        docs = sorted(list(ranking.keys()), key=lambda i: ranking[i], reverse=True)\n",
    "        \n",
    "        for doc in docs:\n",
    "            if doc in judged_docs_for_topic:\n",
    "                ret += [{'qid': qid, 'q0': 'Q0', 'docid': doc, 'rank': position, 'score': ranking[doc], 'system': f}]\n",
    "                position += 1\n",
    "    \n",
    "    return pd.DataFrame(ret)\n",
    "\n",
    "def to_run(f):\n",
    "    beir_json_results_to_run_file(f).to_csv(f'../beir/{f}-run.txt', sep=' ', header=False, index=False)\n",
    "\n",
    "to_run('ance')\n",
    "to_run('sentence-bert')"
   ]
  }
 ],
 "metadata": {
  "kernelspec": {
   "display_name": "Python 3",
   "language": "python",
   "name": "python3"
  },
  "language_info": {
   "codemirror_mode": {
    "name": "ipython",
    "version": 3
   },
   "file_extension": ".py",
   "mimetype": "text/x-python",
   "name": "python",
   "nbconvert_exporter": "python",
   "pygments_lexer": "ipython3",
   "version": "3.6.15"
  }
 },
 "nbformat": 4,
 "nbformat_minor": 5
}
