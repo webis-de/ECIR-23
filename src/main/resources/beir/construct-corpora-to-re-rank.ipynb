{
 "cells": [
  {
   "cell_type": "code",
   "execution_count": 11,
   "id": "4b2415ab-3722-4bd9-8f06-2c994e26da65",
   "metadata": {},
   "outputs": [],
   "source": [
    "import pandas as pd\n",
    "import gzip\n",
    "import json\n",
    "from tqdm import tqdm\n",
    "from trectools import TrecRun\n",
    "QRELS = ['qrels.trec-covid-additional-judgments.tsv', 'qrels.trec-covid-v1.tsv', 'qrels.trec-covid-v2.tsv']\n",
    "\n",
    "CORPORA = ['trec-covid-beir/corpus-ORIG.jsonl']\n",
    "\n",
    "def load_qrels(qrel_file):\n",
    "    return pd.read_csv('../unprocessed/topics-and-qrels/' + qrel_file, sep='\\t')\n",
    "\n",
    "def load_all_docs():\n",
    "    ret = []\n",
    "    for qrel in QRELS:\n",
    "        ret += list(load_qrels(qrel)['doc_id'])\n",
    "    return set(ret)\n",
    "\n",
    "judged_docs = load_all_docs()\n"
   ]
  },
  {
   "cell_type": "code",
   "execution_count": 31,
   "id": "158c0e84-0e50-4f03-ac1c-c76bc252004e",
   "metadata": {},
   "outputs": [
    {
     "name": "stdout",
     "output_type": "stream",
     "text": [
      "-rw-r--r-- 1 maik maik 16M Sep 19 16:19 trec-covid-v2/corpus.jsonl.gz\n"
     ]
    }
   ],
   "source": [
    "!ls -lha trec-covid-v2/corpus.jsonl.gz"
   ]
  },
  {
   "cell_type": "code",
   "execution_count": 34,
   "id": "09b677f1-565f-4e94-b484-cf4b76f12ad8",
   "metadata": {},
   "outputs": [
    {
     "name": "stdout",
     "output_type": "stream",
     "text": [
      "{\"_id\": \"2b73a28n\", \"title\": \"Role of endothelin-1 in lung disease\", \"text\": \"Endothelin-1 (ET-1) is a 21 amino acid peptide with diverse biological activity that has been implicated in numerous diseases. ET-1 is a potent mitogen regulator of smooth muscle tone, and inflammatory mediator that may play a key role in diseases of the airways, pulmonary circulation, and inflammatory lung diseases, both acute and chronic. This review will focus on the biology of ET-1 and its role in lung disease.\", \"metadata\": {\"url\": \"https://www.ncbi.nlm.nih.gov/pmc/articles/PMC59574/\", \"pubmed_id\": \"11686871\"}}\n",
      "{\"_id\": \"zjufx4fo\", \"title\": \"Sequence requirements for RNA strand transfer during nidovirus discontinuous subgenomic RNA synthesis\", \"text\": \"Nidovirus subgenomic mRNAs contain a leader sequence derived from the 5\\u2032 end of the genome fused to different sequences (\\u2018bodies\\u2019) derived from the 3\\u2032 end. Their generation involves a unique mechanism of discontinuous subgenomic RNA synthesis that resembles copy-choice RNA recombination. During this process, the nascent RNA strand is transferred from one site in the template to another, during either plus or minus strand synthesis, to yield subgenomic RNA molecules. Central to this process are transcription-regulating sequences (TRSs), which are present at both template sites and ensure the fidelity of strand transfer. Here we present results of a comprehensive co-variation mutagenesis study of equine arteritis virus TRSs, demonstrating that discontinuous RNA synthesis depends not only on base pairing between sense leader TRS and antisense body TRS, but also on the primary sequence of the body TRS. While the leader TRS merely plays a targeting role for strand transfer, the body TRS fulfils multiple functions. The sequences of mRNA leader\\u2013body junctions of TRS mutants strongly suggested that the discontinuous step occurs during minus strand synthesis.\", \"metadata\": {\"url\": \"http://europepmc.org/articles/pmc125340?pdf=render\", \"pubmed_id\": \"11742998\"}}\n",
      "\n",
      "gzip: stdout: Broken pipe\n"
     ]
    }
   ],
   "source": [
    "!zcat trec-covid/corpus.jsonl.gz|head -2"
   ]
  },
  {
   "cell_type": "code",
   "execution_count": 5,
   "id": "09fed8cc-f732-4570-9938-cab3a3765ebc",
   "metadata": {},
   "outputs": [],
   "source": [
    "translation = {}\n",
    "current_id = 0\n",
    "\n",
    "with open('/mnt/ceph/storage-rw/data-tmp/current/kibi9872/beir-ColBERT/colbert-datasets/trec-covid-beir/collection-ORIG.tsv', 'r') as inp, open('/mnt/ceph/storage-rw/data-tmp/current/kibi9872/beir-ColBERT/colbert-datasets/trec-covid-beir/collection.tsv', 'w') as out:\n",
    "    for l in inp:\n",
    "        l =  l.split('\\t')\n",
    "        assert len(l) == 2\n",
    "        \n",
    "        doc_id = l[0].strip()\n",
    "        doc_text = l[1].strip()\n",
    "        if doc_id in judged_docs:\n",
    "            out.write(str(current_id) + '\\t' + doc_text + '\\n')\n",
    "            translation[current_id] = doc_id\n",
    "            current_id += 1\n",
    "\n",
    "json.dump(translation, open('/mnt/ceph/storage-rw/data-tmp/current/kibi9872/beir-ColBERT/colbert-datasets/trec-covid-beir/document-ids.json', 'w'))\n",
    "        "
   ]
  },
  {
   "cell_type": "code",
   "execution_count": 10,
   "id": "f602e5a9-a324-43fd-ab52-8cb4cc2b4835",
   "metadata": {},
   "outputs": [],
   "source": [
    "with open('/mnt/ceph/storage-rw/data-tmp/current/kibi9872/beir-ColBERT/colbert-datasets/trec-covid-beir/collection-ORIG.tsv', 'r') as inp, open('/mnt/ceph/storage-rw/data-tmp/current/kibi9872/beir-ColBERT/colbert-datasets/trec-covid-beir/collection-original-ids.tsv', 'w') as out:\n",
    "    for l in inp:\n",
    "        doc_id = l.split('\\t')[0].strip()\n",
    "        if doc_id in judged_docs:\n",
    "            out.write(l)\n"
   ]
  },
  {
   "cell_type": "code",
   "execution_count": 11,
   "id": "9fcfb5cf-23b4-43a2-9ef5-5d5d9bcf07ac",
   "metadata": {},
   "outputs": [
    {
     "data": {
      "text/plain": [
       "36016"
      ]
     },
     "execution_count": 11,
     "metadata": {},
     "output_type": "execute_result"
    }
   ],
   "source": [
    "len(judged_docs)"
   ]
  },
  {
   "cell_type": "code",
   "execution_count": 8,
   "id": "0adecd24-e90d-49b9-a04c-21b193e33230",
   "metadata": {},
   "outputs": [],
   "source": [
    "with open('/mnt/ceph/storage-rw/data-tmp/current/kibi9872/beir-ColBERT/colbert-datasets/trec-covid-beir/document-ids.tsv', 'w') as out:\n",
    "    for k, v in translation.items():\n",
    "        out.write(f'{v}\\t{k}\\n')"
   ]
  },
  {
   "cell_type": "code",
   "execution_count": 13,
   "id": "77085547-3468-4edc-9e41-7952ba4eb723",
   "metadata": {},
   "outputs": [
    {
     "data": {
      "text/plain": [
       "1107"
      ]
     },
     "execution_count": 13,
     "metadata": {},
     "output_type": "execute_result"
    }
   ],
   "source": [
    "len(qrels_for_topic(10))"
   ]
  },
  {
   "cell_type": "code",
   "execution_count": 12,
   "id": "25553d40-59b5-4465-b7ab-2765b528f6a2",
   "metadata": {},
   "outputs": [],
   "source": [
    "def qrels_for_topic(topic):\n",
    "    ret = []\n",
    "    for qrel in QRELS:\n",
    "        qrel = load_qrels(qrel)\n",
    "        qrel['query_id'] = qrel['query_id'].astype(int)\n",
    "        qrel = qrel[qrel['query_id'] == int(topic)]\n",
    "        \n",
    "        ret += list(qrel['doc_id'])\n",
    "\n",
    "\n",
    "    return set(ret)\n",
    "\n"
   ]
  },
  {
   "cell_type": "code",
   "execution_count": 18,
   "id": "ff2a1b15-98c5-4448-8d45-3d75d5be0ffa",
   "metadata": {},
   "outputs": [],
   "source": [
    "def beir_json_results_to_run_file(f):\n",
    "    inp = json.load(open(f'../beir/{f}-results.json', 'r'))\n",
    "    ret = []\n",
    "    \n",
    "    for qid, ranking in inp.items():\n",
    "        judged_docs_for_topic = qrels_for_topic(qid)\n",
    "        position = 1\n",
    "        docs = sorted(list(ranking.keys()), key=lambda i: ranking[i], reverse=True)\n",
    "        \n",
    "        for doc in docs:\n",
    "            if doc in judged_docs_for_topic:\n",
    "                ret += [{'qid': qid, 'q0': 'Q0', 'docid': doc, 'rank': position, 'score': ranking[doc], 'system': f}]\n",
    "                position += 1\n",
    "    \n",
    "    return pd.DataFrame(ret)\n",
    "\n",
    "def to_run(f):\n",
    "    beir_json_results_to_run_file(f).to_csv(f'../beir/{f}-run.txt', sep=' ', header=False, index=False)\n",
    "\n",
    "to_run('ance')\n",
    "to_run('sentence-bert')"
   ]
  },
  {
   "cell_type": "code",
   "execution_count": 15,
   "id": "0702f86f-6415-4c42-940a-2991854426a0",
   "metadata": {},
   "outputs": [],
   "source": [
    "def beir_json_results_to_run_file(f):\n",
    "    inp = json.load(open(f'../beir/{f}-results.json', 'r'))\n",
    "    ret = []\n",
    "    \n",
    "    for qid, ranking in inp.items():\n",
    "        judged_docs_for_topic = qrels_for_topic(qid)\n",
    "        position = 1\n",
    "        docs = sorted(list(ranking.keys()), key=lambda i: ranking[i], reverse=True)\n",
    "        \n",
    "        for doc in docs:\n",
    "            if doc in judged_docs_for_topic:\n",
    "                ret += [{'qid': qid, 'q0': 'Q0', 'docid': doc, 'rank': position, 'score': ranking[doc], 'system': f}]\n",
    "                position += 1\n",
    "    \n",
    "    return pd.DataFrame(ret)\n",
    "\n",
    "def to_run(f):\n",
    "    beir_json_results_to_run_file(f).to_csv(f'../unprocessed/trec-system-runs/trec-covid/{f}-run.txt', sep=' ', header=False, index=False)\n",
    "\n",
    "to_run('ance')\n",
    "to_run('sentence-bert')\n",
    "to_run('sentence-bert')\n",
    "to_run('dpr')\n",
    "to_run('tas-b')"
   ]
  },
  {
   "cell_type": "code",
   "execution_count": 9,
   "id": "2019c14f-973c-44d9-b56e-5df1d5a87005",
   "metadata": {},
   "outputs": [
    {
     "name": "stdout",
     "output_type": "stream",
     "text": [
      "ance-run.txt\t\t   CSIROmedNIR-run.txt\n",
      "BBGhelani1-run.txt\t   CSIROmed_PE-run.txt\n",
      "BBGhelani2-run.txt\t   CSIROmed_RF-run.txt\n",
      "BioinfoUA-emb-q-run.txt    DA_IICT_all-run.txt\n",
      "BioinfoUA-emb-run.txt\t   DA_IICT_narr_qe-run.txt\n",
      "BioinfoUA-noadapt-run.txt  DA_IICT_narr-run.txt\n",
      "BITEM_BL-run.txt\t   dpr-run.txt\n",
      "BITEM_df-run.txt\t   elhuyar_indri-run.txt\n",
      "BITEM_stem-run.txt\t   elhuyar_rRnk_cbert-run.txt\n",
      "bm25-run.txt\t\t   elhuyar_rRnk_sbert-run.txt\n",
      "BRPHJ_NLP1-run.txt\t   factum-1-run.txt\n",
      "BRPHJ_NLP2-run.txt\t   pl2-run.txt\n",
      "BRPHJ_NLP3-run.txt\t   run1-run.txt\n",
      "CincyMedIR-run1-run.txt    run2-run.txt\n",
      "CincyMedIR-run2-run.txt    sentence-bert-run.txt\n",
      "CincyMedIR-run3-run.txt    tf-idf-run.txt\n",
      "colbert-pyterrier-run.txt\n"
     ]
    }
   ],
   "source": [
    "!ls ../unprocessed/trec-system-runs/trec-covid\n"
   ]
  },
  {
   "cell_type": "code",
   "execution_count": 29,
   "id": "fadc88b9-59e2-4fd9-af2a-3bcafbc2fe98",
   "metadata": {},
   "outputs": [],
   "source": [
    "def beir_json_results_to_run_file(f):\n",
    "    inp = TrecRun(f'../beir/{f}-full-run.txt')\n",
    "    ret = []\n",
    "    judged_per_topic = {qid: qrels_for_topic(qid) for qid in inp.run_data['query'].unique()}\n",
    "    \n",
    "    for _, i in inp.run_data.iterrows():\n",
    "        i = i.to_dict()\n",
    "        if i['docid'] in judged_per_topic[i['query']]:\n",
    "            ret += [i]\n",
    "    \n",
    "    return pd.DataFrame(ret)\n",
    "\n",
    "def to_run(f):\n",
    "    beir_json_results_to_run_file(f).to_csv(f'../beir/{f}-run.txt', sep=' ', header=False, index=False)\n",
    "\n",
    "to_run('bm25')\n",
    "to_run('dlm')\n",
    "to_run('pl2')\n",
    "to_run('tf-idf')"
   ]
  },
  {
   "cell_type": "code",
   "execution_count": 14,
   "id": "22db9516-4aa1-4199-8890-c5f031438d49",
   "metadata": {},
   "outputs": [
    {
     "name": "stderr",
     "output_type": "stream",
     "text": [
      "100%|██████████| 54/54 [15:05<00:00, 16.77s/it]\n"
     ]
    }
   ],
   "source": [
    "def beir_json_results_to_run_file(f):\n",
    "    inp = TrecRun(f'../beir/{f}.gz')\n",
    "    ret = []\n",
    "    judged_per_topic = {qid: qrels_for_topic(qid) for qid in inp.run_data['query'].unique()}\n",
    "    \n",
    "    for _, i in inp.run_data.iterrows():\n",
    "        i = i.to_dict()\n",
    "        if i['docid'] in judged_per_topic[i['query']]:\n",
    "            ret += [i]\n",
    "    \n",
    "    return pd.DataFrame(ret)\n",
    "\n",
    "def to_run(f):\n",
    "    beir_json_results_to_run_file(f).to_csv(f'../unprocessed/trec-system-runs/trec-covid/{f}-run.txt', sep=' ', header=False, index=False)\n",
    "\n",
    "    \n",
    "all_trec_runs = !ls ../beir/|grep '.gz'\n",
    "\n",
    "for run in tqdm([i.split('.gz')[0] for i in all_trec_runs]):\n",
    "    to_run(run)"
   ]
  },
  {
   "cell_type": "code",
   "execution_count": 18,
   "id": "ff900ba6-5732-4bdf-8bf7-b9d7e5405acd",
   "metadata": {},
   "outputs": [
    {
     "name": "stderr",
     "output_type": "stream",
     "text": [
      "100%|██████████| 26/26 [04:09<00:00,  9.58s/it]\n"
     ]
    }
   ],
   "source": [
    "def beir_json_results_to_run_file(f):\n",
    "    inp = TrecRun(f'../beir/beir-round-1/{f}')\n",
    "    ret = []\n",
    "    judged_per_topic = {qid: qrels_for_topic(qid) for qid in inp.run_data['query'].unique()}\n",
    "    \n",
    "    for _, i in inp.run_data.iterrows():\n",
    "        i = i.to_dict()\n",
    "        if i['docid'] in judged_per_topic[i['query']]:\n",
    "            ret += [i]\n",
    "    \n",
    "    return pd.DataFrame(ret)\n",
    "\n",
    "def to_run(f):\n",
    "    beir_json_results_to_run_file(f).to_csv(f'../unprocessed/trec-system-runs/trec-covid/{f}-run.txt', sep=' ', header=False, index=False)\n",
    "\n",
    "    \n",
    "all_trec_runs = !ls ../beir/beir-round-1/\n",
    "\n",
    "for run in tqdm([i for i in all_trec_runs]):\n",
    "    to_run(run)"
   ]
  },
  {
   "cell_type": "code",
   "execution_count": 16,
   "id": "42d17c29-6e80-42f4-adf0-f677e3386142",
   "metadata": {},
   "outputs": [
    {
     "name": "stdout",
     "output_type": "stream",
     "text": [
      "BBGhelani1\t   BITEM_df\t    CincyMedIR-run2  DA_IICT_narr\t run1\n",
      "BBGhelani2\t   BITEM_stem\t    CincyMedIR-run3  DA_IICT_narr_qe\t run2\n",
      "BioinfoUA-emb\t   BRPHJ_NLP1\t    CSIROmedNIR      elhuyar_indri\n",
      "BioinfoUA-emb-q    BRPHJ_NLP2\t    CSIROmed_PE      elhuyar_rRnk_cbert\n",
      "BioinfoUA-noadapt  BRPHJ_NLP3\t    CSIROmed_RF      elhuyar_rRnk_sbert\n",
      "BITEM_BL\t   CincyMedIR-run1  DA_IICT_all      factum-1\n"
     ]
    }
   ],
   "source": []
  }
 ],
 "metadata": {
  "kernelspec": {
   "display_name": "Python 3",
   "language": "python",
   "name": "python3"
  },
  "language_info": {
   "codemirror_mode": {
    "name": "ipython",
    "version": 3
   },
   "file_extension": ".py",
   "mimetype": "text/x-python",
   "name": "python",
   "nbconvert_exporter": "python",
   "pygments_lexer": "ipython3",
   "version": "3.6.15"
  }
 },
 "nbformat": 4,
 "nbformat_minor": 5
}
